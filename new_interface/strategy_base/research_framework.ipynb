{
 "cells": [
  {
   "cell_type": "markdown",
   "source": [
    "### 概述\n",
    "关于单资产的策略，是有一套固定的框架来进行研究的，该notebook用于实现这样一套框架，\n",
    "以提高策略的研究效率。 大体来说，该研究框架建立在显著性会在一段时间内持续下去这样的\n",
    "假设上。比如如果我们统计过去一年内，上一日的日间回报与下一日的日内回报存在显著的正相关性，\n",
    "则可以认为未来一段时间内这种相关性仍然存在。之所以使用这样的假设，是因为受到样本大小的限制，\n",
    "在任一时间横截面上，都只能有一个样本数据，基于这样一个样本的数据，是无法找到统计规律的，\n",
    "所以我们只能将时间横截面扩展到一个足够的时间区间中，并且假设这个时间区间内这个关系是稳定的。\n",
    "\n",
    "在这样的假设下，使用高频的数据是有优势的，因为能够在较短的时间区间内累积到足够的样本数，从\n",
    "而发现显著的关系。\n",
    "\n",
    "使用不同类型或者不同粒度的时序数据，研究方法是不一样的，时序类型以及时间粒度其实决定\n",
    "的是可交易的时刻，可交易时刻必须是能够确定价格的时刻，比如若使用日bar的时序数据，则\n",
    "可交易时刻是每天的开盘和收盘。若使用分钟bar的时序数据，则可交易时刻是交易时间段内所有分钟\n",
    "的开始（或结束）。 更细粒度的时序类型就暂时不考虑了，因为数据量太大，可能会带来一些性能\n",
    "问题。确定了交易时间点后，就可以在任意的时间点来找过去回报和未来回报之间的相关性（这背后\n",
    "的假设是有很多的时间点都具有相同的相关性，比如每天的开盘时刻都有相同的关系、每个周五的收盘\n",
    "都有相同的关系、每分钟的开始都有相同的关系）。这个相关性可以是线性的，通过相关系数来衡量，\n",
    "或者是非线性的，使用分类统计值衡量。\n",
    "\n",
    "使用分钟bar的时序类型的研究是比较简单的，可以在每个分钟开始尝试过去p分钟的回报跟未来q分钟回报\n",
    "的相关性。可以每天的数据进行分开统计，不可能每天的相关性都是显著的，可能只有少数的天数是显著\n",
    "的，假设显著性的标准是p=0.05,M天的统计区间内有N天是显著的，则可以计算事件：M天内有大于等于N\n",
    "天发生事件e的概率，事件e的发生概率是0.05。这背后的假设是若显著性是偶然发生的，则发生概率是0.05,\n",
    "在M次独立重复实验中至少发生N次的概率是是可以计算出来的，如果这个概率是小概率，则可以拒绝背后的假设。\n",
    "这背后的假设检验逻辑是：H0 不存在相关性， H1 存在相关性，在原假设为真的情况下，可以得到事件（显著相关性）发生k次的概率分布，\n",
    "从而可以得到拒绝域。之所以选用大于等于这个事件作为评价标准，是因为大于等于描述的就是拒绝域，我们可以通过\n",
    "p值计算出拒绝域，也可以通过具体的临界值（如大于等于4）来计算p值，这两种方式都可以用来拒绝H0假设，是等价的。\n",
    "\n",
    "这个方式有一个需要注意的点，那就是计算相关性所用的过去的回报序列以及未来的回报序列，不能是强自相关性的回报\n",
    "序列，因为两个强自相关性的时间序列倾向于变现出显著的相关性（一半为正，一半为负，他们似乎可以刚好抵消。在实践\n",
    "中也需要注意，如果某种相关性显著的正相关数量和显著的负相关数量相同的话，这个相关性是没有任何价值的，因为无法\n",
    "指导决策），但是实际上这两个随机变量是相互独立的。\n",
    "\n",
    "任何策略的本质都是在预测，一次预测包括用来预测的因子、被预测的变量、预测模型。预测是一个研究过程，包括不断调整\n",
    "预测因子和预测模型，以获得最小的错误率。预测因子和被预测变量可以是离散型的，也可以是连续型的。上面的研究方法，\n",
    "预测因子X和被预测变量Y都是离散型的，且只有0，1两个只，预测模型是Y=X或者Y=-X。 在量化领域，被预测变量通常都是\n",
    "某段时间的回报（交易期权可能需要预测波动率），一个主要的选择在于是预测回报的符号还是回报的具体值，要预测具体的值\n",
    "所需要的模型是很复杂的，容易存在过拟合的风险，所以一般选择被预测变量是回报的符号。确定了被预测变量后，就剩下\n",
    "预测因子、预测模型以及评估错误率的方法了。\n",
    "\n",
    "我学习了机器学习领域的一些适合于二元分类的预测算法，包括SVM、逻辑回归、朴素贝叶斯、决策树。这些都是可以用于尝试的模型。\n",
    "评估错误率的方法可以使用交叉检验，即将数据集分为训练集和验证集，训练集用于通过某种算法来优化出模型的参数（这种算法通常\n",
    "是利用倒数来不断迭代，从而得到一个局部最优解），验证集则是利用训练出来的模型来进行预测，并计算错误率。这整个过程是监督\n",
    "学习。 错误率是在验证集上预测错误的数量除以样本总数，如果错误率低于50%，则意味着有一半以上的概率能够判断正确，而基于\n",
    "大数定律，如果重复足够多的情况下，成功的次数会高于失败的次数，而在样本足够大的情况下，可以认为成功次数的回报与失败次数的\n",
    "平均回报是相同的。"
   ],
   "metadata": {
    "collapsed": false
   }
  },
  {
   "cell_type": "code",
   "execution_count": 1,
   "outputs": [
    {
     "name": "stderr",
     "output_type": "stream",
     "text": [
      "WARNING:cassandra.cluster:Cluster.__init__ called with contact_points specified, but no load_balancing_policy. In the next major version, this will raise an error; please specify a load-balancing policy. (contact_points = ['172.16.0.102'], lbp = None)\n",
      "ERROR:ibapi.wrapper:ERROR -1 2104 市场数据农场连接正常:hfarm\n",
      "ERROR:root:ib client error, req_id:-1, errorCode:2104, errorString:市场数据农场连接正常:hfarm\n",
      "ERROR:ibapi.wrapper:ERROR -1 2104 市场数据农场连接正常:usfuture\n",
      "ERROR:root:ib client error, req_id:-1, errorCode:2104, errorString:市场数据农场连接正常:usfuture\n",
      "ERROR:ibapi.wrapper:ERROR -1 2104 市场数据农场连接正常:jfarm\n",
      "ERROR:root:ib client error, req_id:-1, errorCode:2104, errorString:市场数据农场连接正常:jfarm\n",
      "ERROR:ibapi.wrapper:ERROR -1 2104 市场数据农场连接正常:eufarm\n",
      "ERROR:root:ib client error, req_id:-1, errorCode:2104, errorString:市场数据农场连接正常:eufarm\n",
      "ERROR:ibapi.wrapper:ERROR -1 2104 市场数据农场连接正常:cashfarm\n",
      "ERROR:root:ib client error, req_id:-1, errorCode:2104, errorString:市场数据农场连接正常:cashfarm\n",
      "ERROR:ibapi.wrapper:ERROR -1 2104 市场数据农场连接正常:usfarm\n",
      "ERROR:root:ib client error, req_id:-1, errorCode:2104, errorString:市场数据农场连接正常:usfarm\n",
      "ERROR:ibapi.wrapper:ERROR -1 2106 历史市场数据农场连接正常:euhmds\n",
      "ERROR:root:ib client error, req_id:-1, errorCode:2106, errorString:历史市场数据农场连接正常:euhmds\n",
      "ERROR:ibapi.wrapper:ERROR -1 2106 历史市场数据农场连接正常:hkhmds\n",
      "ERROR:root:ib client error, req_id:-1, errorCode:2106, errorString:历史市场数据农场连接正常:hkhmds\n",
      "ERROR:ibapi.wrapper:ERROR -1 2106 历史市场数据农场连接正常:fundfarm\n",
      "ERROR:root:ib client error, req_id:-1, errorCode:2106, errorString:历史市场数据农场连接正常:fundfarm\n",
      "ERROR:ibapi.wrapper:ERROR -1 2106 历史市场数据农场连接正常:ushmds\n",
      "ERROR:root:ib client error, req_id:-1, errorCode:2106, errorString:历史市场数据农场连接正常:ushmds\n",
      "ERROR:ibapi.wrapper:ERROR -1 2158 Sec-def数据农场连接正常:secdefhk\n",
      "ERROR:root:ib client error, req_id:-1, errorCode:2158, errorString:Sec-def数据农场连接正常:secdefhk\n"
     ]
    }
   ],
   "source": [
    "from se2.domain.time_series import *\n",
    "from se2.domain.engine import *\n",
    "from se2.domain.account import *\n",
    "from se2.domain.common import *\n",
    "import pandas as pd\n",
    "import numpy as np"
   ],
   "metadata": {
    "collapsed": false,
    "pycharm": {
     "name": "#%%\n"
    }
   }
  },
  {
   "cell_type": "code",
   "execution_count": 2,
   "outputs": [],
   "source": [
    "import scipy.stats"
   ],
   "metadata": {
    "collapsed": false,
    "pycharm": {
     "name": "#%%\n"
    }
   }
  },
  {
   "cell_type": "code",
   "execution_count": 3,
   "outputs": [],
   "source": [
    "code = 'SPCE_STK_USD_SMART'\n",
    "start = pd.Timestamp('2021-01-09 21:00:00', tz='Asia/Shanghai')\n",
    "end = pd.Timestamp('2021-06-09 21:00:00', tz='Asia/Shanghai')\n",
    "command = HistoryDataQueryCommand(start, end, [code])\n",
    "ts_repo: TimeSeriesRepo = BeanContainer.getBean(TimeSeriesRepo)"
   ],
   "metadata": {
    "collapsed": false,
    "pycharm": {
     "name": "#%%\n"
    }
   }
  },
  {
   "cell_type": "code",
   "execution_count": 11,
   "outputs": [
    {
     "data": {
      "text/plain": "                                         start_time   open   high    low  \\\nvisible_time                                                               \n2021-01-11 22:31:00+08:00 2021-01-11 22:30:00+08:00  24.97  24.99  24.85   \n2021-01-11 22:32:00+08:00 2021-01-11 22:31:00+08:00  24.85  25.14  24.81   \n2021-01-11 22:33:00+08:00 2021-01-11 22:32:00+08:00  25.09  25.17  24.85   \n2021-01-11 22:34:00+08:00 2021-01-11 22:33:00+08:00  24.97  25.00  24.80   \n2021-01-11 22:35:00+08:00 2021-01-11 22:34:00+08:00  24.83  24.96  24.77   \n\n                           close  volume  \nvisible_time                              \n2021-01-11 22:31:00+08:00  24.86    2193  \n2021-01-11 22:32:00+08:00  25.06     484  \n2021-01-11 22:33:00+08:00  24.91     539  \n2021-01-11 22:34:00+08:00  24.85     691  \n2021-01-11 22:35:00+08:00  24.79     359  ",
      "text/html": "<div>\n<style scoped>\n    .dataframe tbody tr th:only-of-type {\n        vertical-align: middle;\n    }\n\n    .dataframe tbody tr th {\n        vertical-align: top;\n    }\n\n    .dataframe thead th {\n        text-align: right;\n    }\n</style>\n<table border=\"1\" class=\"dataframe\">\n  <thead>\n    <tr style=\"text-align: right;\">\n      <th></th>\n      <th>start_time</th>\n      <th>open</th>\n      <th>high</th>\n      <th>low</th>\n      <th>close</th>\n      <th>volume</th>\n    </tr>\n    <tr>\n      <th>visible_time</th>\n      <th></th>\n      <th></th>\n      <th></th>\n      <th></th>\n      <th></th>\n      <th></th>\n    </tr>\n  </thead>\n  <tbody>\n    <tr>\n      <th>2021-01-11 22:31:00+08:00</th>\n      <td>2021-01-11 22:30:00+08:00</td>\n      <td>24.97</td>\n      <td>24.99</td>\n      <td>24.85</td>\n      <td>24.86</td>\n      <td>2193</td>\n    </tr>\n    <tr>\n      <th>2021-01-11 22:32:00+08:00</th>\n      <td>2021-01-11 22:31:00+08:00</td>\n      <td>24.85</td>\n      <td>25.14</td>\n      <td>24.81</td>\n      <td>25.06</td>\n      <td>484</td>\n    </tr>\n    <tr>\n      <th>2021-01-11 22:33:00+08:00</th>\n      <td>2021-01-11 22:32:00+08:00</td>\n      <td>25.09</td>\n      <td>25.17</td>\n      <td>24.85</td>\n      <td>24.91</td>\n      <td>539</td>\n    </tr>\n    <tr>\n      <th>2021-01-11 22:34:00+08:00</th>\n      <td>2021-01-11 22:33:00+08:00</td>\n      <td>24.97</td>\n      <td>25.00</td>\n      <td>24.80</td>\n      <td>24.85</td>\n      <td>691</td>\n    </tr>\n    <tr>\n      <th>2021-01-11 22:35:00+08:00</th>\n      <td>2021-01-11 22:34:00+08:00</td>\n      <td>24.83</td>\n      <td>24.96</td>\n      <td>24.77</td>\n      <td>24.79</td>\n      <td>359</td>\n    </tr>\n  </tbody>\n</table>\n</div>"
     },
     "execution_count": 11,
     "metadata": {},
     "output_type": "execute_result"
    }
   ],
   "source": [
    "# 加载最近一个月的数据\n",
    "ts: TimeSeries = ts_repo.find_one(\"ibMinBar\")\n",
    "MIN_BAR_DF: DataFrame = ts.history_data(command, from_local=True)\n",
    "MIN_BAR_DF = MIN_BAR_DF.droplevel(level=1)\n",
    "MIN_BAR_DF.head()"
   ],
   "metadata": {
    "collapsed": false,
    "pycharm": {
     "name": "#%%\n"
    }
   }
  },
  {
   "cell_type": "code",
   "execution_count": 198,
   "outputs": [
    {
     "name": "stdout",
     "output_type": "stream",
     "text": [
      "显著正相关数：3/21\n",
      "显著负相关数：7/21\n",
      "4.87135732627759e-05\n"
     ]
    }
   ],
   "source": [
    "# 按天计算相关系数，计算相关系数的时候使用重叠的数据，真实交易的过程\n",
    "# 只是这个样本数据的一个子集\n",
    "P = 10\n",
    "def calc(df: DataFrame):\n",
    "    if len(df) <= 0:\n",
    "        return None\n",
    "    # def calc_min_ret(sdf: DataFrame):\n",
    "    #     return np.log(sdf.iloc[-1] / sdf.iloc[0])\n",
    "    #\n",
    "    # p_min_rets = df['close'].groupby(pd.Grouper(freq='{}Min'.format(P), origin='start')).apply(calc_min_ret)\n",
    "    # dd = pd.DataFrame({'r1': p_min_rets, 'r2': p_min_rets.shift(-1)}).dropna()\n",
    "    #\n",
    "    ret1 = np.log(df['close'] / df['close'].shift(P))\n",
    "    ret2 = np.log(df['close'].shift(-P) / df['close'])\n",
    "    #\n",
    "    dd = pd.DataFrame({'r1': ret1, 'r2': ret2}).dropna()\n",
    "    r, p = scipy.stats.spearmanr(dd.values[:, 0], dd.values[:, 1])\n",
    "    return pd.Series({\"r\": r, 'p': p})\n",
    "\n",
    "\n",
    "res = data.groupby(pd.Grouper(freq='1D', origin='start')).apply(calc).dropna()\n",
    "from prop import min_happen_prop\n",
    "print(\"显著正相关数：{}/{}\".format(len(res[(res['p']<0.05) & (res[\"r\"]>0)]),len(res)))\n",
    "print(\"显著负相关数：{}/{}\".format(len(res[(res['p']<0.05) & (res[\"r\"]<0)]), len(res)))\n",
    "print(min_happen_prop(len(res), len(res[(res['p']<0.05) & (res[\"r\"]<0)]), 0.05))\n"
   ],
   "metadata": {
    "collapsed": false,
    "pycharm": {
     "name": "#%%\n"
    }
   }
  },
  {
   "cell_type": "code",
   "execution_count": 290,
   "outputs": [
    {
     "name": "stdout",
     "output_type": "stream",
     "text": [
      "总回报:0.07346240246482916\n"
     ]
    }
   ],
   "source": [
    "# 计算回报\n",
    "# 回测跟研究是不同的， 假设使用10分钟的bar数据进行预测未来十分钟的回报的话，则交易间隔至少是10分钟，\n",
    "# 这也意味着如果进行了交易决策，后续十分钟内的交易信号就必须忽略掉（这种属于基于时间的退出策略，即退出\n",
    "# 决策只依赖时间，而不依赖价格的变化）。\n",
    "# 这种逻辑使用DataFrame似乎不好计算，\n",
    "P = 10\n",
    "def calc_daily_ret(df: DataFrame):\n",
    "    if len(df) <= 0:\n",
    "        return\n",
    "    p_min_rets = np.log(df['close'] / df['close'].shift(P))\n",
    "    rets: DataFrame = pd.DataFrame({'pre_ret': p_min_rets, \"next_ret\": p_min_rets.shift(-P)})\n",
    "    rets = rets.dropna()\n",
    "    up_threshold = 0\n",
    "    down_threshold = -0\n",
    "    trade_count = 0\n",
    "    total_ret = 0\n",
    "    interval_count = P\n",
    "    for dt, s in rets.iterrows():\n",
    "        interval_count += P+1\n",
    "        if s['pre_ret'] > up_threshold and interval_count > P:\n",
    "            total_ret += -s['next_ret']\n",
    "            interval_count = 0\n",
    "            trade_count += 1\n",
    "        elif s['pre_ret'] < down_threshold and interval_count > P:\n",
    "            total_ret += s['next_ret']\n",
    "            interval_count = 0\n",
    "            trade_count += 1\n",
    "\n",
    "    return pd.Series({\"ret\":total_ret, \"trade_count\": trade_count})\n",
    "\n",
    "\n",
    "st_daily_ret = data.groupby(pd.Grouper(freq='1D', origin='start')).apply(calc_daily_ret).dropna()\n",
    "total_ret = np.exp(st_daily_ret['ret'].sum()) - 1\n",
    "print(\"总回报:{}\".format(total_ret))"
   ],
   "metadata": {
    "collapsed": false,
    "pycharm": {
     "name": "#%%\n"
    }
   }
  },
  {
   "cell_type": "code",
   "execution_count": 291,
   "outputs": [
    {
     "data": {
      "text/plain": "                                ret  trade_count\nvisible_time                                    \n2021-04-09 21:31:00+08:00  0.184457        350.0\n2021-04-12 21:31:00+08:00 -0.063464        349.0\n2021-04-13 21:31:00+08:00  0.165177        351.0\n2021-04-14 21:31:00+08:00 -0.194931        361.0\n2021-04-15 21:31:00+08:00 -0.121803        357.0\n2021-04-16 21:31:00+08:00  0.199951        351.0\n2021-04-19 21:31:00+08:00 -0.156595        350.0\n2021-04-20 21:31:00+08:00  0.299408        353.0\n2021-04-21 21:31:00+08:00  0.137278        359.0\n2021-04-22 21:31:00+08:00  0.346466        361.0\n2021-04-23 21:31:00+08:00  0.122934        343.0\n2021-04-26 21:31:00+08:00 -0.006619        353.0\n2021-04-27 21:31:00+08:00  0.047552        361.0\n2021-04-28 21:31:00+08:00  0.107532        346.0\n2021-04-29 21:31:00+08:00 -0.051194        357.0\n2021-04-30 21:31:00+08:00 -0.066357        341.0\n2021-05-03 21:31:00+08:00  0.081736        353.0\n2021-05-04 21:31:00+08:00 -0.361212        356.0\n2021-05-05 21:31:00+08:00 -0.386830        354.0\n2021-05-06 21:31:00+08:00 -0.270222        353.0\n2021-05-07 21:31:00+08:00  0.057626        346.0",
      "text/html": "<div>\n<style scoped>\n    .dataframe tbody tr th:only-of-type {\n        vertical-align: middle;\n    }\n\n    .dataframe tbody tr th {\n        vertical-align: top;\n    }\n\n    .dataframe thead th {\n        text-align: right;\n    }\n</style>\n<table border=\"1\" class=\"dataframe\">\n  <thead>\n    <tr style=\"text-align: right;\">\n      <th></th>\n      <th>ret</th>\n      <th>trade_count</th>\n    </tr>\n    <tr>\n      <th>visible_time</th>\n      <th></th>\n      <th></th>\n    </tr>\n  </thead>\n  <tbody>\n    <tr>\n      <th>2021-04-09 21:31:00+08:00</th>\n      <td>0.184457</td>\n      <td>350.0</td>\n    </tr>\n    <tr>\n      <th>2021-04-12 21:31:00+08:00</th>\n      <td>-0.063464</td>\n      <td>349.0</td>\n    </tr>\n    <tr>\n      <th>2021-04-13 21:31:00+08:00</th>\n      <td>0.165177</td>\n      <td>351.0</td>\n    </tr>\n    <tr>\n      <th>2021-04-14 21:31:00+08:00</th>\n      <td>-0.194931</td>\n      <td>361.0</td>\n    </tr>\n    <tr>\n      <th>2021-04-15 21:31:00+08:00</th>\n      <td>-0.121803</td>\n      <td>357.0</td>\n    </tr>\n    <tr>\n      <th>2021-04-16 21:31:00+08:00</th>\n      <td>0.199951</td>\n      <td>351.0</td>\n    </tr>\n    <tr>\n      <th>2021-04-19 21:31:00+08:00</th>\n      <td>-0.156595</td>\n      <td>350.0</td>\n    </tr>\n    <tr>\n      <th>2021-04-20 21:31:00+08:00</th>\n      <td>0.299408</td>\n      <td>353.0</td>\n    </tr>\n    <tr>\n      <th>2021-04-21 21:31:00+08:00</th>\n      <td>0.137278</td>\n      <td>359.0</td>\n    </tr>\n    <tr>\n      <th>2021-04-22 21:31:00+08:00</th>\n      <td>0.346466</td>\n      <td>361.0</td>\n    </tr>\n    <tr>\n      <th>2021-04-23 21:31:00+08:00</th>\n      <td>0.122934</td>\n      <td>343.0</td>\n    </tr>\n    <tr>\n      <th>2021-04-26 21:31:00+08:00</th>\n      <td>-0.006619</td>\n      <td>353.0</td>\n    </tr>\n    <tr>\n      <th>2021-04-27 21:31:00+08:00</th>\n      <td>0.047552</td>\n      <td>361.0</td>\n    </tr>\n    <tr>\n      <th>2021-04-28 21:31:00+08:00</th>\n      <td>0.107532</td>\n      <td>346.0</td>\n    </tr>\n    <tr>\n      <th>2021-04-29 21:31:00+08:00</th>\n      <td>-0.051194</td>\n      <td>357.0</td>\n    </tr>\n    <tr>\n      <th>2021-04-30 21:31:00+08:00</th>\n      <td>-0.066357</td>\n      <td>341.0</td>\n    </tr>\n    <tr>\n      <th>2021-05-03 21:31:00+08:00</th>\n      <td>0.081736</td>\n      <td>353.0</td>\n    </tr>\n    <tr>\n      <th>2021-05-04 21:31:00+08:00</th>\n      <td>-0.361212</td>\n      <td>356.0</td>\n    </tr>\n    <tr>\n      <th>2021-05-05 21:31:00+08:00</th>\n      <td>-0.386830</td>\n      <td>354.0</td>\n    </tr>\n    <tr>\n      <th>2021-05-06 21:31:00+08:00</th>\n      <td>-0.270222</td>\n      <td>353.0</td>\n    </tr>\n    <tr>\n      <th>2021-05-07 21:31:00+08:00</th>\n      <td>0.057626</td>\n      <td>346.0</td>\n    </tr>\n  </tbody>\n</table>\n</div>"
     },
     "execution_count": 291,
     "metadata": {},
     "output_type": "execute_result"
    }
   ],
   "source": [
    "st_daily_ret"
   ],
   "metadata": {
    "collapsed": false,
    "pycharm": {
     "name": "#%%\n"
    }
   }
  },
  {
   "cell_type": "code",
   "execution_count": 105,
   "outputs": [
    {
     "data": {
      "text/plain": "count    380.000000\nmean       0.000220\nstd        0.003256\nmin       -0.009920\n25%       -0.002051\n50%        0.000000\n75%        0.002393\nmax        0.009606\nName: close, dtype: float64"
     },
     "execution_count": 105,
     "metadata": {},
     "output_type": "execute_result"
    }
   ],
   "source": [
    "# 从总体上来说，过去十分钟和未来十分钟存在负相关，但是因为你不可能在每一分钟进行\n",
    "# 下注，因为每次你的持续时间都是十分钟，所以你只能选择那些绝对好的机会进行下注，\n",
    "# 比如下跌超过一定阀值时，或者上涨超过一定阀值时\n",
    "P = 5\n",
    "daily_df = data.loc[:'2021-04-10 21:00:00']\n",
    "rets = np.log(daily_df['close'] / daily_df['close'].shift(P))\n",
    "rets.describe()"
   ],
   "metadata": {
    "collapsed": false,
    "pycharm": {
     "name": "#%%\n"
    }
   }
  },
  {
   "cell_type": "code",
   "execution_count": 109,
   "outputs": [],
   "source": [
    "dd = pd.DataFrame({\"pre_ret\": rets, 'after_ret': rets.shift(-P)})\n",
    "dd = dd.dropna()\n"
   ],
   "metadata": {
    "collapsed": false,
    "pycharm": {
     "name": "#%%\n"
    }
   }
  },
  {
   "cell_type": "code",
   "execution_count": 118,
   "outputs": [
    {
     "data": {
      "text/plain": "visible_time\n2021-04-09 22:05:00+08:00    0.003779\n2021-04-09 22:06:00+08:00    0.006521\n2021-04-09 22:07:00+08:00    0.009596\n2021-04-09 22:28:00+08:00    0.001715\n2021-04-09 22:29:00+08:00    0.003774\n2021-04-09 22:30:00+08:00   -0.001372\n2021-04-09 22:31:00+08:00    0.000343\n2021-04-09 22:32:00+08:00   -0.002745\n2021-04-10 00:40:00+08:00   -0.001029\n2021-04-10 01:15:00+08:00    0.000686\n2021-04-10 01:16:00+08:00    0.001029\n2021-04-10 01:17:00+08:00    0.000343\n2021-04-10 01:39:00+08:00    0.001035\n2021-04-10 03:41:00+08:00    0.001714\n2021-04-10 03:42:00+08:00    0.001714\n2021-04-10 03:43:00+08:00    0.002399\n2021-04-10 03:45:00+08:00    0.002057\nName: after_ret, dtype: float64"
     },
     "execution_count": 118,
     "metadata": {},
     "output_type": "execute_result"
    }
   ],
   "source": [
    "dd[dd['pre_ret']<-0.005]['after_ret']"
   ],
   "metadata": {
    "collapsed": false,
    "pycharm": {
     "name": "#%%\n"
    }
   }
  },
  {
   "cell_type": "code",
   "execution_count": 117,
   "outputs": [
    {
     "data": {
      "text/plain": "count    34.000000\nmean     -0.002850\nstd       0.003488\nmin      -0.009920\n25%      -0.005134\n50%      -0.003244\n75%      -0.000342\nmax       0.005127\nName: after_ret, dtype: float64"
     },
     "execution_count": 117,
     "metadata": {},
     "output_type": "execute_result"
    }
   ],
   "source": [
    "dd[dd['pre_ret']>0.005]['after_ret'].describe()"
   ],
   "metadata": {
    "collapsed": false,
    "pycharm": {
     "name": "#%%\n"
    }
   }
  },
  {
   "cell_type": "code",
   "execution_count": 244,
   "outputs": [
    {
     "ename": "KeyboardInterrupt",
     "evalue": "",
     "output_type": "error",
     "traceback": [
      "\u001B[0;31m---------------------------------------------------------------------------\u001B[0m",
      "\u001B[0;31mKeyboardInterrupt\u001B[0m                         Traceback (most recent call last)",
      "\u001B[0;32m<ipython-input-244-4288b59388f8>\u001B[0m in \u001B[0;36m<module>\u001B[0;34m\u001B[0m\n\u001B[1;32m      5\u001B[0m \u001B[0;34m\u001B[0m\u001B[0m\n\u001B[1;32m      6\u001B[0m \u001B[0mdf\u001B[0m \u001B[0;34m=\u001B[0m \u001B[0mpd\u001B[0m\u001B[0;34m.\u001B[0m\u001B[0mDataFrame\u001B[0m\u001B[0;34m(\u001B[0m\u001B[0;34m{\u001B[0m\u001B[0;34m'pre_ret'\u001B[0m\u001B[0;34m:\u001B[0m \u001B[0mrets\u001B[0m\u001B[0;34m,\u001B[0m \u001B[0;34m'after_ret'\u001B[0m\u001B[0;34m:\u001B[0m \u001B[0mafter_rets\u001B[0m\u001B[0;34m}\u001B[0m\u001B[0;34m)\u001B[0m\u001B[0;34m.\u001B[0m\u001B[0mdropna\u001B[0m\u001B[0;34m(\u001B[0m\u001B[0;34m)\u001B[0m\u001B[0;34m\u001B[0m\u001B[0;34m\u001B[0m\u001B[0m\n\u001B[0;32m----> 7\u001B[0;31m \u001B[0mtotal_ret\u001B[0m \u001B[0;34m=\u001B[0m \u001B[0;36m0\u001B[0m\u001B[0;34m\u001B[0m\u001B[0;34m\u001B[0m\u001B[0m\n\u001B[0m\u001B[1;32m      8\u001B[0m \u001B[0;32mfor\u001B[0m \u001B[0mdt\u001B[0m\u001B[0;34m,\u001B[0m \u001B[0ms\u001B[0m \u001B[0;32min\u001B[0m \u001B[0mdf\u001B[0m\u001B[0;34m.\u001B[0m\u001B[0miloc\u001B[0m\u001B[0;34m[\u001B[0m\u001B[0;34m:\u001B[0m\u001B[0;34m:\u001B[0m\u001B[0;36m10\u001B[0m\u001B[0;34m]\u001B[0m\u001B[0;34m.\u001B[0m\u001B[0miterrows\u001B[0m\u001B[0;34m(\u001B[0m\u001B[0;34m)\u001B[0m\u001B[0;34m:\u001B[0m\u001B[0;34m\u001B[0m\u001B[0;34m\u001B[0m\u001B[0m\n\u001B[1;32m      9\u001B[0m     \u001B[0;32mif\u001B[0m \u001B[0ms\u001B[0m\u001B[0;34m[\u001B[0m\u001B[0;34m'pre_ret'\u001B[0m\u001B[0;34m]\u001B[0m \u001B[0;34m>\u001B[0m \u001B[0;36m0\u001B[0m\u001B[0;34m:\u001B[0m\u001B[0;34m\u001B[0m\u001B[0;34m\u001B[0m\u001B[0m\n",
      "\u001B[0;32m<ipython-input-244-4288b59388f8>\u001B[0m in \u001B[0;36m<module>\u001B[0;34m\u001B[0m\n\u001B[1;32m      5\u001B[0m \u001B[0;34m\u001B[0m\u001B[0m\n\u001B[1;32m      6\u001B[0m \u001B[0mdf\u001B[0m \u001B[0;34m=\u001B[0m \u001B[0mpd\u001B[0m\u001B[0;34m.\u001B[0m\u001B[0mDataFrame\u001B[0m\u001B[0;34m(\u001B[0m\u001B[0;34m{\u001B[0m\u001B[0;34m'pre_ret'\u001B[0m\u001B[0;34m:\u001B[0m \u001B[0mrets\u001B[0m\u001B[0;34m,\u001B[0m \u001B[0;34m'after_ret'\u001B[0m\u001B[0;34m:\u001B[0m \u001B[0mafter_rets\u001B[0m\u001B[0;34m}\u001B[0m\u001B[0;34m)\u001B[0m\u001B[0;34m.\u001B[0m\u001B[0mdropna\u001B[0m\u001B[0;34m(\u001B[0m\u001B[0;34m)\u001B[0m\u001B[0;34m\u001B[0m\u001B[0;34m\u001B[0m\u001B[0m\n\u001B[0;32m----> 7\u001B[0;31m \u001B[0mtotal_ret\u001B[0m \u001B[0;34m=\u001B[0m \u001B[0;36m0\u001B[0m\u001B[0;34m\u001B[0m\u001B[0;34m\u001B[0m\u001B[0m\n\u001B[0m\u001B[1;32m      8\u001B[0m \u001B[0;32mfor\u001B[0m \u001B[0mdt\u001B[0m\u001B[0;34m,\u001B[0m \u001B[0ms\u001B[0m \u001B[0;32min\u001B[0m \u001B[0mdf\u001B[0m\u001B[0;34m.\u001B[0m\u001B[0miloc\u001B[0m\u001B[0;34m[\u001B[0m\u001B[0;34m:\u001B[0m\u001B[0;34m:\u001B[0m\u001B[0;36m10\u001B[0m\u001B[0;34m]\u001B[0m\u001B[0;34m.\u001B[0m\u001B[0miterrows\u001B[0m\u001B[0;34m(\u001B[0m\u001B[0;34m)\u001B[0m\u001B[0;34m:\u001B[0m\u001B[0;34m\u001B[0m\u001B[0;34m\u001B[0m\u001B[0m\n\u001B[1;32m      9\u001B[0m     \u001B[0;32mif\u001B[0m \u001B[0ms\u001B[0m\u001B[0;34m[\u001B[0m\u001B[0;34m'pre_ret'\u001B[0m\u001B[0;34m]\u001B[0m \u001B[0;34m>\u001B[0m \u001B[0;36m0\u001B[0m\u001B[0;34m:\u001B[0m\u001B[0;34m\u001B[0m\u001B[0;34m\u001B[0m\u001B[0m\n",
      "\u001B[0;32m_pydevd_bundle/pydevd_cython_darwin_38_64.pyx\u001B[0m in \u001B[0;36m_pydevd_bundle.pydevd_cython_darwin_38_64.SafeCallWrapper.__call__\u001B[0;34m()\u001B[0m\n",
      "\u001B[0;32m_pydevd_bundle/pydevd_cython_darwin_38_64.pyx\u001B[0m in \u001B[0;36m_pydevd_bundle.pydevd_cython_darwin_38_64.PyDBFrame.trace_dispatch\u001B[0;34m()\u001B[0m\n",
      "\u001B[0;32m_pydevd_bundle/pydevd_cython_darwin_38_64.pyx\u001B[0m in \u001B[0;36m_pydevd_bundle.pydevd_cython_darwin_38_64.PyDBFrame.trace_dispatch\u001B[0;34m()\u001B[0m\n",
      "\u001B[0;32m_pydevd_bundle/pydevd_cython_darwin_38_64.pyx\u001B[0m in \u001B[0;36m_pydevd_bundle.pydevd_cython_darwin_38_64.PyDBFrame.trace_dispatch\u001B[0;34m()\u001B[0m\n",
      "\u001B[0;32m_pydevd_bundle/pydevd_cython_darwin_38_64.pyx\u001B[0m in \u001B[0;36m_pydevd_bundle.pydevd_cython_darwin_38_64.PyDBFrame.do_wait_suspend\u001B[0;34m()\u001B[0m\n",
      "\u001B[0;32m/Applications/PyCharm.app/Contents/plugins/python/helpers/pydev/pydevd.py\u001B[0m in \u001B[0;36mdo_wait_suspend\u001B[0;34m(self, thread, frame, event, arg, send_suspend_message, is_unhandled_exception)\u001B[0m\n\u001B[1;32m   1145\u001B[0m \u001B[0;34m\u001B[0m\u001B[0m\n\u001B[1;32m   1146\u001B[0m         \u001B[0;32mwith\u001B[0m \u001B[0mself\u001B[0m\u001B[0;34m.\u001B[0m\u001B[0m_threads_suspended_single_notification\u001B[0m\u001B[0;34m.\u001B[0m\u001B[0mnotify_thread_suspended\u001B[0m\u001B[0;34m(\u001B[0m\u001B[0mthread_id\u001B[0m\u001B[0;34m,\u001B[0m \u001B[0mstop_reason\u001B[0m\u001B[0;34m)\u001B[0m\u001B[0;34m:\u001B[0m\u001B[0;34m\u001B[0m\u001B[0;34m\u001B[0m\u001B[0m\n\u001B[0;32m-> 1147\u001B[0;31m             \u001B[0mself\u001B[0m\u001B[0;34m.\u001B[0m\u001B[0m_do_wait_suspend\u001B[0m\u001B[0;34m(\u001B[0m\u001B[0mthread\u001B[0m\u001B[0;34m,\u001B[0m \u001B[0mframe\u001B[0m\u001B[0;34m,\u001B[0m \u001B[0mevent\u001B[0m\u001B[0;34m,\u001B[0m \u001B[0marg\u001B[0m\u001B[0;34m,\u001B[0m \u001B[0msuspend_type\u001B[0m\u001B[0;34m,\u001B[0m \u001B[0mfrom_this_thread\u001B[0m\u001B[0;34m)\u001B[0m\u001B[0;34m\u001B[0m\u001B[0;34m\u001B[0m\u001B[0m\n\u001B[0m\u001B[1;32m   1148\u001B[0m \u001B[0;34m\u001B[0m\u001B[0m\n\u001B[1;32m   1149\u001B[0m     \u001B[0;32mdef\u001B[0m \u001B[0m_do_wait_suspend\u001B[0m\u001B[0;34m(\u001B[0m\u001B[0mself\u001B[0m\u001B[0;34m,\u001B[0m \u001B[0mthread\u001B[0m\u001B[0;34m,\u001B[0m \u001B[0mframe\u001B[0m\u001B[0;34m,\u001B[0m \u001B[0mevent\u001B[0m\u001B[0;34m,\u001B[0m \u001B[0marg\u001B[0m\u001B[0;34m,\u001B[0m \u001B[0msuspend_type\u001B[0m\u001B[0;34m,\u001B[0m \u001B[0mfrom_this_thread\u001B[0m\u001B[0;34m)\u001B[0m\u001B[0;34m:\u001B[0m\u001B[0;34m\u001B[0m\u001B[0;34m\u001B[0m\u001B[0m\n",
      "\u001B[0;32m/Applications/PyCharm.app/Contents/plugins/python/helpers/pydev/pydevd.py\u001B[0m in \u001B[0;36m_do_wait_suspend\u001B[0;34m(self, thread, frame, event, arg, suspend_type, from_this_thread)\u001B[0m\n\u001B[1;32m   1160\u001B[0m \u001B[0;34m\u001B[0m\u001B[0m\n\u001B[1;32m   1161\u001B[0m                 \u001B[0mself\u001B[0m\u001B[0;34m.\u001B[0m\u001B[0mprocess_internal_commands\u001B[0m\u001B[0;34m(\u001B[0m\u001B[0;34m)\u001B[0m\u001B[0;34m\u001B[0m\u001B[0;34m\u001B[0m\u001B[0m\n\u001B[0;32m-> 1162\u001B[0;31m                 \u001B[0mtime\u001B[0m\u001B[0;34m.\u001B[0m\u001B[0msleep\u001B[0m\u001B[0;34m(\u001B[0m\u001B[0;36m0.01\u001B[0m\u001B[0;34m)\u001B[0m\u001B[0;34m\u001B[0m\u001B[0;34m\u001B[0m\u001B[0m\n\u001B[0m\u001B[1;32m   1163\u001B[0m \u001B[0;34m\u001B[0m\u001B[0m\n\u001B[1;32m   1164\u001B[0m         \u001B[0mself\u001B[0m\u001B[0;34m.\u001B[0m\u001B[0mcancel_async_evaluation\u001B[0m\u001B[0;34m(\u001B[0m\u001B[0mget_current_thread_id\u001B[0m\u001B[0;34m(\u001B[0m\u001B[0mthread\u001B[0m\u001B[0;34m)\u001B[0m\u001B[0;34m,\u001B[0m \u001B[0mstr\u001B[0m\u001B[0;34m(\u001B[0m\u001B[0mid\u001B[0m\u001B[0;34m(\u001B[0m\u001B[0mframe\u001B[0m\u001B[0;34m)\u001B[0m\u001B[0;34m)\u001B[0m\u001B[0;34m)\u001B[0m\u001B[0;34m\u001B[0m\u001B[0;34m\u001B[0m\u001B[0m\n",
      "\u001B[0;31mKeyboardInterrupt\u001B[0m: "
     ]
    }
   ],
   "source": [
    "test_data = data.loc[:'2021-04-10 21:00:00']\n",
    "rets = np.log(test_data['close'] / test_data['close'].shift(10))\n",
    "after_rets = rets.shift(-10)\n",
    "\n",
    "df = pd.DataFrame({'pre_ret': rets, 'after_ret': after_rets}).dropna()\n",
    "total_ret = 0\n",
    "for dt, s in df.iloc[::10].iterrows():\n",
    "    if s['pre_ret'] > 0:\n",
    "        total_ret += -s['after_ret']\n",
    "    elif s['pre_ret'] < 0:\n",
    "        total_ret += s['after_ret']\n",
    "print(total_ret)"
   ],
   "metadata": {
    "collapsed": false,
    "pycharm": {
     "name": "#%%\n"
    }
   }
  },
  {
   "cell_type": "code",
   "execution_count": 230,
   "outputs": [
    {
     "data": {
      "text/plain": "<AxesSubplot:xlabel='pre_ret', ylabel='after_ret'>"
     },
     "execution_count": 230,
     "metadata": {},
     "output_type": "execute_result"
    },
    {
     "data": {
      "text/plain": "<Figure size 432x288 with 1 Axes>",
      "image/png": "[encoded data removed]"
     },
     "metadata": {
      "needs_background": "light"
     },
     "output_type": "display_data"
    }
   ],
   "source": [
    "ax = df.plot.scatter('pre_ret', 'after_ret')\n",
    "df.iloc[::10].plot.scatter('pre_ret', 'after_ret',color='red', ax=ax)"
   ],
   "metadata": {
    "collapsed": false,
    "pycharm": {
     "name": "#%%\n"
    }
   }
  },
  {
   "cell_type": "code",
   "execution_count": null,
   "outputs": [],
   "source": [
    "# 如果不考虑重叠样本数据影响的话，我确实在各个分钟粒度上都发现了相邻回报的负相关性\n",
    "# 这似乎是也预示着股价存在回归现象，但是回测的时候却不能带来稳定的回报，这两者之间\n",
    "# 唯一的区别就是研究的时候使用的样本数据有重叠，\n",
    "# 当研究10分钟的bar时，如果使用重叠数据，可以得到370个样本，如果使用非重叠的数据，\n",
    "# 则只能得到37个样本，这就导致了虽然从370个样本中能够观察到相关性，但是在37个样本中看不到\n",
    "# 这种相关性。\n",
    "# 而且使用重叠数据，背离了独立重复实验的的前提，即实验与实验之间的独立性，样本数据之间有很强\n",
    "# 的相关性，所以从这些互相具有强相关性的样本数据得到的统计显著性可能并不显著。所以下面研究\n",
    "# 相关性的时候，不使用重叠数据。\n"
   ],
   "metadata": {
    "collapsed": false,
    "pycharm": {
     "name": "#%%\n"
    }
   }
  },
  {
   "cell_type": "code",
   "execution_count": 27,
   "outputs": [
    {
     "name": "stdout",
     "output_type": "stream",
     "text": [
      "显著正相关数：2/116\n",
      "显著负相关数：11/116\n",
      "0.03110821974142362\n"
     ]
    }
   ],
   "source": [
    "# 计算不同分钟时间粒度的回报的一阶相关性，计算过程中，要避免使用重复的样本数据\n",
    "# 每天的数据分开进行计算\n",
    "P = 1\n",
    "def calc(df: DataFrame):\n",
    "    if len(df) <= 0:\n",
    "        return None\n",
    "    # 最近p分钟的回报\n",
    "    ret: Series = np.log(df['close'] / df['close'].shift(P))\n",
    "    # 下一个p分钟的回报\n",
    "    next_ret = ret.shift(-P)\n",
    "    rets: DataFrame = pd.DataFrame({'pre_ret': ret, \"next_ret\": next_ret}).dropna()\n",
    "    # 由于上面计算出来的样本数据使用的原始数据有重叠，会带来样本数据之间的相关性\n",
    "    # 所以会过滤掉相互关联的样本数据，保证样本之间的独立性\n",
    "    rets = rets.iloc[::P]\n",
    "    r, p = scipy.stats.spearmanr(rets.values[:, 0], rets.values[:, 1])\n",
    "    return pd.Series({\"r\": r, 'p': p})\n",
    "\n",
    "\n",
    "res = data.groupby(pd.Grouper(freq='1D', origin='start')).apply(calc).dropna()\n",
    "from prop import min_happen_prop\n",
    "print(\"显著正相关数：{}/{}\".format(len(res[(res['p']<0.05) & (res[\"r\"]>0)]),len(res)))\n",
    "print(\"显著负相关数：{}/{}\".format(len(res[(res['p']<0.05) & (res[\"r\"]<0)]), len(res)))\n",
    "print(min_happen_prop(len(res), len(res[(res['p']<0.05) & (res[\"r\"]<0)]), 0.05))\n",
    "\n",
    "# 从上面的计算结果可以看出，在任意分钟粒度下，都没有发现显著的一阶相关性，从而也佐证了回测结果的不理想"
   ],
   "metadata": {
    "collapsed": false,
    "pycharm": {
     "name": "#%%\n"
    }
   }
  },
  {
   "cell_type": "code",
   "execution_count": 5,
   "outputs": [
    {
     "data": {
      "text/plain": "                                         start_time   open   high    low  \\\nvisible_time                                                               \n2021-01-12 05:00:00+08:00 2021-01-11 22:30:00+08:00  24.97  25.70  24.43   \n2021-01-13 05:00:00+08:00 2021-01-12 22:30:00+08:00  25.12  26.73  24.99   \n2021-01-14 05:00:00+08:00 2021-01-13 22:30:00+08:00  26.58  27.85  26.25   \n2021-01-15 05:00:00+08:00 2021-01-14 22:30:00+08:00  31.03  33.72  30.19   \n2021-01-16 05:00:00+08:00 2021-01-15 22:30:00+08:00  31.93  32.48  29.92   \n...                                             ...    ...    ...    ...   \n2021-06-03 04:00:00+08:00 2021-06-02 21:30:00+08:00  28.59  32.09  28.41   \n2021-06-04 04:00:00+08:00 2021-06-03 21:30:00+08:00  32.21  33.70  30.70   \n2021-06-05 04:00:00+08:00 2021-06-04 21:30:00+08:00  30.90  32.16  29.93   \n2021-06-08 04:00:00+08:00 2021-06-07 21:30:00+08:00  31.45  34.79  30.96   \n2021-06-09 04:00:00+08:00 2021-06-08 21:30:00+08:00  35.58  38.22  35.05   \n\n                           close  volume  \nvisible_time                              \n2021-01-12 05:00:00+08:00  24.92   52013  \n2021-01-13 05:00:00+08:00  26.66  105341  \n2021-01-14 05:00:00+08:00  27.56   97435  \n2021-01-15 05:00:00+08:00  33.03  495626  \n2021-01-16 05:00:00+08:00  30.43  158772  \n...                          ...     ...  \n2021-06-03 04:00:00+08:00  31.13  262126  \n2021-06-04 04:00:00+08:00  31.01  262866  \n2021-06-05 04:00:00+08:00  31.38  155812  \n2021-06-08 04:00:00+08:00  34.69  256621  \n2021-06-09 04:00:00+08:00  37.49  292370  \n\n[103 rows x 6 columns]",
      "text/html": "<div>\n<style scoped>\n    .dataframe tbody tr th:only-of-type {\n        vertical-align: middle;\n    }\n\n    .dataframe tbody tr th {\n        vertical-align: top;\n    }\n\n    .dataframe thead th {\n        text-align: right;\n    }\n</style>\n<table border=\"1\" class=\"dataframe\">\n  <thead>\n    <tr style=\"text-align: right;\">\n      <th></th>\n      <th>start_time</th>\n      <th>open</th>\n      <th>high</th>\n      <th>low</th>\n      <th>close</th>\n      <th>volume</th>\n    </tr>\n    <tr>\n      <th>visible_time</th>\n      <th></th>\n      <th></th>\n      <th></th>\n      <th></th>\n      <th></th>\n      <th></th>\n    </tr>\n  </thead>\n  <tbody>\n    <tr>\n      <th>2021-01-12 05:00:00+08:00</th>\n      <td>2021-01-11 22:30:00+08:00</td>\n      <td>24.97</td>\n      <td>25.70</td>\n      <td>24.43</td>\n      <td>24.92</td>\n      <td>52013</td>\n    </tr>\n    <tr>\n      <th>2021-01-13 05:00:00+08:00</th>\n      <td>2021-01-12 22:30:00+08:00</td>\n      <td>25.12</td>\n      <td>26.73</td>\n      <td>24.99</td>\n      <td>26.66</td>\n      <td>105341</td>\n    </tr>\n    <tr>\n      <th>2021-01-14 05:00:00+08:00</th>\n      <td>2021-01-13 22:30:00+08:00</td>\n      <td>26.58</td>\n      <td>27.85</td>\n      <td>26.25</td>\n      <td>27.56</td>\n      <td>97435</td>\n    </tr>\n    <tr>\n      <th>2021-01-15 05:00:00+08:00</th>\n      <td>2021-01-14 22:30:00+08:00</td>\n      <td>31.03</td>\n      <td>33.72</td>\n      <td>30.19</td>\n      <td>33.03</td>\n      <td>495626</td>\n    </tr>\n    <tr>\n      <th>2021-01-16 05:00:00+08:00</th>\n      <td>2021-01-15 22:30:00+08:00</td>\n      <td>31.93</td>\n      <td>32.48</td>\n      <td>29.92</td>\n      <td>30.43</td>\n      <td>158772</td>\n    </tr>\n    <tr>\n      <th>...</th>\n      <td>...</td>\n      <td>...</td>\n      <td>...</td>\n      <td>...</td>\n      <td>...</td>\n      <td>...</td>\n    </tr>\n    <tr>\n      <th>2021-06-03 04:00:00+08:00</th>\n      <td>2021-06-02 21:30:00+08:00</td>\n      <td>28.59</td>\n      <td>32.09</td>\n      <td>28.41</td>\n      <td>31.13</td>\n      <td>262126</td>\n    </tr>\n    <tr>\n      <th>2021-06-04 04:00:00+08:00</th>\n      <td>2021-06-03 21:30:00+08:00</td>\n      <td>32.21</td>\n      <td>33.70</td>\n      <td>30.70</td>\n      <td>31.01</td>\n      <td>262866</td>\n    </tr>\n    <tr>\n      <th>2021-06-05 04:00:00+08:00</th>\n      <td>2021-06-04 21:30:00+08:00</td>\n      <td>30.90</td>\n      <td>32.16</td>\n      <td>29.93</td>\n      <td>31.38</td>\n      <td>155812</td>\n    </tr>\n    <tr>\n      <th>2021-06-08 04:00:00+08:00</th>\n      <td>2021-06-07 21:30:00+08:00</td>\n      <td>31.45</td>\n      <td>34.79</td>\n      <td>30.96</td>\n      <td>34.69</td>\n      <td>256621</td>\n    </tr>\n    <tr>\n      <th>2021-06-09 04:00:00+08:00</th>\n      <td>2021-06-08 21:30:00+08:00</td>\n      <td>35.58</td>\n      <td>38.22</td>\n      <td>35.05</td>\n      <td>37.49</td>\n      <td>292370</td>\n    </tr>\n  </tbody>\n</table>\n<p>103 rows × 6 columns</p>\n</div>"
     },
     "execution_count": 5,
     "metadata": {},
     "output_type": "execute_result"
    }
   ],
   "source": [
    "# 由于开盘时刻的价差很大，并且在十分钟内会稳定下来，为了避免在这十分钟内进行交易，可以预测开盘十分钟\n",
    "# 的回报，以及这个回报与上一个日间涨幅的相关性\n",
    "\n",
    "# 获取日bar\n",
    "adj_bar_ts: TimeSeries = ts_repo.find_one(\"ibAdjustedDailyBar\")\n",
    "daily_bar_df: DataFrame = adj_bar_ts.history_data(command)\n",
    "daily_bar_df = daily_bar_df.droplevel(level=1)\n",
    "daily_bar_df"
   ],
   "metadata": {
    "collapsed": false,
    "pycharm": {
     "name": "#%%\n"
    }
   }
  },
  {
   "cell_type": "code",
   "execution_count": 10,
   "outputs": [
    {
     "data": {
      "text/plain": "start_time\n2021-01-11 22:30:00+08:00         NaN\n2021-01-12 22:30:00+08:00    0.007994\n2021-01-13 22:30:00+08:00   -0.003005\n2021-01-14 22:30:00+08:00    0.118589\n2021-01-15 22:30:00+08:00   -0.033870\n                               ...   \n2021-06-02 21:30:00+08:00   -0.010092\n2021-06-03 21:30:00+08:00    0.034105\n2021-06-04 21:30:00+08:00   -0.003554\n2021-06-07 21:30:00+08:00    0.002228\n2021-06-08 21:30:00+08:00    0.025332\nLength: 103, dtype: float64"
     },
     "execution_count": 10,
     "metadata": {},
     "output_type": "execute_result"
    }
   ],
   "source": [
    "s = np.log(daily_bar_df['open'] / daily_bar_df['close'].shift(1))\n",
    "s.index = daily_bar_df['start_time']\n",
    "co_ret = s\n",
    "co_ret"
   ],
   "metadata": {
    "collapsed": false,
    "pycharm": {
     "name": "#%%\n"
    }
   }
  },
  {
   "cell_type": "code",
   "execution_count": 114,
   "outputs": [
    {
     "data": {
      "text/plain": "start_time\n2021-01-11 22:30:00+08:00   -0.010872\n2021-01-12 22:30:00+08:00    0.045144\n2021-01-13 22:30:00+08:00   -0.005659\n2021-01-14 22:30:00+08:00    0.023568\n2021-01-15 22:30:00+08:00    0.009352\n                               ...   \n2021-06-02 21:30:00+08:00    0.028958\n2021-06-03 21:30:00+08:00    0.002790\n2021-06-04 21:30:00+08:00    0.017007\n2021-06-07 21:30:00+08:00    0.007602\n2021-06-08 21:30:00+08:00    0.030448\nLength: 103, dtype: float64"
     },
     "execution_count": 114,
     "metadata": {},
     "output_type": "execute_result"
    }
   ],
   "source": [
    "M = 12\n",
    "def calc_ret(df: DataFrame):\n",
    "    if len(df) <= 0:\n",
    "        return None\n",
    "    return np.log(df.iloc[M-1]['close'] / df.iloc[0]['open'])\n",
    "day_start_rets = MIN_BAR_DF.groupby(pd.Grouper(freq='1D',\n",
    "                                               origin=pd.Timestamp(\"21:00:00\", tz='Asia/Shanghai'))).apply(calc_ret).dropna()\n",
    "day_start_rets = day_start_rets.reindex(index=co_ret.index, method='ffill')\n",
    "day_start_rets"
   ],
   "metadata": {
    "collapsed": false,
    "pycharm": {
     "name": "#%%\n"
    }
   }
  },
  {
   "cell_type": "code",
   "execution_count": 115,
   "outputs": [
    {
     "name": "stdout",
     "output_type": "stream",
     "text": [
      "SpearmanrResult(correlation=-0.2772680880189537, pvalue=0.004782997717732164)\n"
     ]
    },
    {
     "data": {
      "text/plain": "<Figure size 432x288 with 1 Axes>",
      "image/png": "[encoded data removed]"
     },
     "metadata": {
      "needs_background": "light"
     },
     "output_type": "display_data"
    }
   ],
   "source": [
    "df = pd.DataFrame({\"co\": co_ret, \"day_start_ret\": day_start_rets}).dropna()\n",
    "df.plot.scatter('co', 'day_start_ret')\n",
    "print(scipy.stats.spearmanr(df.values[:, 0], df.values[:, 1]))"
   ],
   "metadata": {
    "collapsed": false,
    "pycharm": {
     "name": "#%%\n"
    }
   }
  },
  {
   "cell_type": "code",
   "execution_count": 116,
   "outputs": [
    {
     "data": {
      "text/plain": "0.7307966690808834"
     },
     "execution_count": 116,
     "metadata": {},
     "output_type": "execute_result"
    }
   ],
   "source": [
    "df['st_ret'] = 0\n",
    "df.loc[df['co']>0, 'st_ret'] = -df['day_start_ret']\n",
    "df.loc[df['co']<0, 'st_ret'] = df['day_start_ret']\n",
    "np.exp(df['st_ret'].sum()) - 1"
   ],
   "metadata": {
    "collapsed": false,
    "pycharm": {
     "name": "#%%\n"
    }
   }
  },
  {
   "cell_type": "code",
   "execution_count": 120,
   "outputs": [
    {
     "data": {
      "text/plain": "<AxesSubplot:xlabel='start_time'>"
     },
     "execution_count": 120,
     "metadata": {},
     "output_type": "execute_result"
    },
    {
     "data": {
      "text/plain": "<Figure size 432x288 with 1 Axes>",
      "image/png": "[encoded data removed]"
     },
     "metadata": {
      "needs_background": "light"
     },
     "output_type": "display_data"
    }
   ],
   "source": [
    "df['st_ret'].cumsum().apply(np.expm1).plot()"
   ],
   "metadata": {
    "collapsed": false,
    "pycharm": {
     "name": "#%%\n"
    }
   }
  },
  {
   "cell_type": "code",
   "execution_count": 178,
   "outputs": [
    {
     "data": {
      "text/plain": "Empty DataFrame\nColumns: [ret, next_ret]\nIndex: []",
      "text/html": "<div>\n<style scoped>\n    .dataframe tbody tr th:only-of-type {\n        vertical-align: middle;\n    }\n\n    .dataframe tbody tr th {\n        vertical-align: top;\n    }\n\n    .dataframe thead th {\n        text-align: right;\n    }\n</style>\n<table border=\"1\" class=\"dataframe\">\n  <thead>\n    <tr style=\"text-align: right;\">\n      <th></th>\n      <th>ret</th>\n      <th>next_ret</th>\n    </tr>\n    <tr>\n      <th>visible_time</th>\n      <th></th>\n      <th></th>\n    </tr>\n  </thead>\n  <tbody>\n  </tbody>\n</table>\n</div>"
     },
     "execution_count": 178,
     "metadata": {},
     "output_type": "execute_result"
    }
   ],
   "source": [
    "# 为什么使用重叠数据得到的样本数据能够发现显著的相关性，但是使用非重叠的数据得到的样本数据确没有显著的相关性。\n",
    "\n"
   ],
   "metadata": {
    "collapsed": false,
    "pycharm": {
     "name": "#%%\n"
    }
   }
  },
  {
   "cell_type": "code",
   "execution_count": 356,
   "outputs": [
    {
     "name": "stderr",
     "output_type": "stream",
     "text": [
      "ERROR:ibapi.wrapper:ERROR -1 502 Couldn't connect to TWS. Confirm that \"Enable ActiveX and Socket EClients\" \n",
      "is enabled and connection port is the same as \"Socket Port\" on the \n",
      "TWS \"Edit->Global Configuration...->API->Settings\" menu. Live Trading ports: \n",
      "TWS: 7496; IB Gateway: 4001. Simulated Trading ports for new installations \n",
      "of version 954.1 or newer:  TWS: 7497; IB Gateway: 4002\n",
      "ERROR:root:ib client error, req_id:-1, errorCode:502, errorString:Couldn't connect to TWS. Confirm that \"Enable ActiveX and Socket EClients\" \n",
      "is enabled and connection port is the same as \"Socket Port\" on the \n",
      "TWS \"Edit->Global Configuration...->API->Settings\" menu. Live Trading ports: \n",
      "TWS: 7496; IB Gateway: 4001. Simulated Trading ports for new installations \n",
      "of version 954.1 or newer:  TWS: 7497; IB Gateway: 4002\n",
      "ERROR:root:Traceback (most recent call last):\n",
      "  File \"/Users/zhang/PycharmProjects/stratege_engine/se2/infras/ib2.py\", line 204, in ping\n",
      "    time.sleep(10)\n",
      "  File \"/Users/zhang/PycharmProjects/stratege_engine/se2/domain/common.py\", line 180, in inner_wrapper\n",
      "    res = func(*args, **kwargs)\n",
      "  File \"/Users/zhang/PycharmProjects/stratege_engine/se2/domain/common.py\", line 180, in inner_wrapper\n",
      "    res = func(*args, **kwargs)\n",
      "  File \"/Users/zhang/PycharmProjects/stratege_engine/se2/infras/ib2.py\", line 173, in try_connect\n",
      "    self.connect(host, port, client_id)\n",
      "RuntimeError: 重新连接失败\n",
      "\n",
      "ERROR:ibapi.wrapper:ERROR -1 502 Couldn't connect to TWS. Confirm that \"Enable ActiveX and Socket EClients\" \n",
      "is enabled and connection port is the same as \"Socket Port\" on the \n",
      "TWS \"Edit->Global Configuration...->API->Settings\" menu. Live Trading ports: \n",
      "TWS: 7496; IB Gateway: 4001. Simulated Trading ports for new installations \n",
      "of version 954.1 or newer:  TWS: 7497; IB Gateway: 4002\n",
      "ERROR:root:ib client error, req_id:-1, errorCode:502, errorString:Couldn't connect to TWS. Confirm that \"Enable ActiveX and Socket EClients\" \n",
      "is enabled and connection port is the same as \"Socket Port\" on the \n",
      "TWS \"Edit->Global Configuration...->API->Settings\" menu. Live Trading ports: \n",
      "TWS: 7496; IB Gateway: 4001. Simulated Trading ports for new installations \n",
      "of version 954.1 or newer:  TWS: 7497; IB Gateway: 4002\n",
      "ERROR:root:Traceback (most recent call last):\n",
      "  File \"/Users/zhang/PycharmProjects/stratege_engine/se2/infras/ib2.py\", line 204, in ping\n",
      "    time.sleep(10)\n",
      "  File \"/Users/zhang/PycharmProjects/stratege_engine/se2/domain/common.py\", line 212, in inner_wrapper\n",
      "    raise exception\n",
      "  File \"/Users/zhang/PycharmProjects/stratege_engine/se2/domain/common.py\", line 180, in inner_wrapper\n",
      "    res = func(*args, **kwargs)\n",
      "  File \"/Users/zhang/PycharmProjects/stratege_engine/se2/infras/ib2.py\", line 182, in try_connect\n",
      "    raise RuntimeError(\"重新连接失败\")\n",
      "RuntimeError: 重新连接失败\n",
      "\n",
      "ERROR:ibapi.wrapper:ERROR -1 502 Couldn't connect to TWS. Confirm that \"Enable ActiveX and Socket EClients\" \n",
      "is enabled and connection port is the same as \"Socket Port\" on the \n",
      "TWS \"Edit->Global Configuration...->API->Settings\" menu. Live Trading ports: \n",
      "TWS: 7496; IB Gateway: 4001. Simulated Trading ports for new installations \n",
      "of version 954.1 or newer:  TWS: 7497; IB Gateway: 4002\n",
      "ERROR:root:ib client error, req_id:-1, errorCode:502, errorString:Couldn't connect to TWS. Confirm that \"Enable ActiveX and Socket EClients\" \n",
      "is enabled and connection port is the same as \"Socket Port\" on the \n",
      "TWS \"Edit->Global Configuration...->API->Settings\" menu. Live Trading ports: \n",
      "TWS: 7496; IB Gateway: 4001. Simulated Trading ports for new installations \n",
      "of version 954.1 or newer:  TWS: 7497; IB Gateway: 4002\n",
      "ERROR:root:Traceback (most recent call last):\n",
      "  File \"/Users/zhang/PycharmProjects/stratege_engine/se2/infras/ib2.py\", line 204, in ping\n",
      "    time.sleep(10)\n",
      "  File \"/Users/zhang/PycharmProjects/stratege_engine/se2/domain/common.py\", line 212, in inner_wrapper\n",
      "    raise exception\n",
      "  File \"/Users/zhang/PycharmProjects/stratege_engine/se2/domain/common.py\", line 180, in inner_wrapper\n",
      "    res = func(*args, **kwargs)\n",
      "  File \"/Users/zhang/PycharmProjects/stratege_engine/se2/infras/ib2.py\", line 182, in try_connect\n",
      "    raise RuntimeError(\"重新连接失败\")\n",
      "RuntimeError: 重新连接失败\n",
      "\n",
      "WARNING:cassandra.pool:Error attempting to reconnect to 172.16.0.102:9042, scheduling retry in 600.0 seconds: [Errno None] Tried connecting to [('172.16.0.102', 9042)]. Last error: timed out\n",
      "ERROR:ibapi.wrapper:ERROR -1 502 Couldn't connect to TWS. Confirm that \"Enable ActiveX and Socket EClients\" \n",
      "is enabled and connection port is the same as \"Socket Port\" on the \n",
      "TWS \"Edit->Global Configuration...->API->Settings\" menu. Live Trading ports: \n",
      "TWS: 7496; IB Gateway: 4001. Simulated Trading ports for new installations \n",
      "of version 954.1 or newer:  TWS: 7497; IB Gateway: 4002\n",
      "ERROR:root:ib client error, req_id:-1, errorCode:502, errorString:Couldn't connect to TWS. Confirm that \"Enable ActiveX and Socket EClients\" \n",
      "is enabled and connection port is the same as \"Socket Port\" on the \n",
      "TWS \"Edit->Global Configuration...->API->Settings\" menu. Live Trading ports: \n",
      "TWS: 7496; IB Gateway: 4001. Simulated Trading ports for new installations \n",
      "of version 954.1 or newer:  TWS: 7497; IB Gateway: 4002\n",
      "ERROR:root:Traceback (most recent call last):\n",
      "  File \"/Users/zhang/PycharmProjects/stratege_engine/se2/infras/ib2.py\", line 204, in ping\n",
      "    time.sleep(10)\n",
      "  File \"/Users/zhang/PycharmProjects/stratege_engine/se2/domain/common.py\", line 212, in inner_wrapper\n",
      "    raise exception\n",
      "  File \"/Users/zhang/PycharmProjects/stratege_engine/se2/domain/common.py\", line 180, in inner_wrapper\n",
      "    res = func(*args, **kwargs)\n",
      "  File \"/Users/zhang/PycharmProjects/stratege_engine/se2/infras/ib2.py\", line 182, in try_connect\n",
      "    raise RuntimeError(\"重新连接失败\")\n",
      "RuntimeError: 重新连接失败\n",
      "\n",
      "ERROR:ibapi.wrapper:ERROR -1 502 Couldn't connect to TWS. Confirm that \"Enable ActiveX and Socket EClients\" \n",
      "is enabled and connection port is the same as \"Socket Port\" on the \n",
      "TWS \"Edit->Global Configuration...->API->Settings\" menu. Live Trading ports: \n",
      "TWS: 7496; IB Gateway: 4001. Simulated Trading ports for new installations \n",
      "of version 954.1 or newer:  TWS: 7497; IB Gateway: 4002\n",
      "ERROR:root:ib client error, req_id:-1, errorCode:502, errorString:Couldn't connect to TWS. Confirm that \"Enable ActiveX and Socket EClients\" \n",
      "is enabled and connection port is the same as \"Socket Port\" on the \n",
      "TWS \"Edit->Global Configuration...->API->Settings\" menu. Live Trading ports: \n",
      "TWS: 7496; IB Gateway: 4001. Simulated Trading ports for new installations \n",
      "of version 954.1 or newer:  TWS: 7497; IB Gateway: 4002\n",
      "ERROR:root:Traceback (most recent call last):\n",
      "  File \"/Users/zhang/PycharmProjects/stratege_engine/se2/infras/ib2.py\", line 204, in ping\n",
      "    time.sleep(10)\n",
      "  File \"/Users/zhang/PycharmProjects/stratege_engine/se2/domain/common.py\", line 212, in inner_wrapper\n",
      "    raise exception\n",
      "  File \"/Users/zhang/PycharmProjects/stratege_engine/se2/domain/common.py\", line 180, in inner_wrapper\n",
      "    res = func(*args, **kwargs)\n",
      "  File \"/Users/zhang/PycharmProjects/stratege_engine/se2/infras/ib2.py\", line 182, in try_connect\n",
      "    raise RuntimeError(\"重新连接失败\")\n",
      "RuntimeError: 重新连接失败\n",
      "\n",
      "ERROR:ibapi.wrapper:ERROR -1 502 Couldn't connect to TWS. Confirm that \"Enable ActiveX and Socket EClients\" \n",
      "is enabled and connection port is the same as \"Socket Port\" on the \n",
      "TWS \"Edit->Global Configuration...->API->Settings\" menu. Live Trading ports: \n",
      "TWS: 7496; IB Gateway: 4001. Simulated Trading ports for new installations \n",
      "of version 954.1 or newer:  TWS: 7497; IB Gateway: 4002\n",
      "ERROR:root:ib client error, req_id:-1, errorCode:502, errorString:Couldn't connect to TWS. Confirm that \"Enable ActiveX and Socket EClients\" \n",
      "is enabled and connection port is the same as \"Socket Port\" on the \n",
      "TWS \"Edit->Global Configuration...->API->Settings\" menu. Live Trading ports: \n",
      "TWS: 7496; IB Gateway: 4001. Simulated Trading ports for new installations \n",
      "of version 954.1 or newer:  TWS: 7497; IB Gateway: 4002\n",
      "ERROR:root:Traceback (most recent call last):\n",
      "  File \"/Users/zhang/PycharmProjects/stratege_engine/se2/infras/ib2.py\", line 204, in ping\n",
      "    time.sleep(10)\n",
      "  File \"/Users/zhang/PycharmProjects/stratege_engine/se2/domain/common.py\", line 212, in inner_wrapper\n",
      "    raise exception\n",
      "  File \"/Users/zhang/PycharmProjects/stratege_engine/se2/domain/common.py\", line 180, in inner_wrapper\n",
      "    res = func(*args, **kwargs)\n",
      "  File \"/Users/zhang/PycharmProjects/stratege_engine/se2/infras/ib2.py\", line 182, in try_connect\n",
      "    raise RuntimeError(\"重新连接失败\")\n",
      "RuntimeError: 重新连接失败\n",
      "\n",
      "ERROR:ibapi.wrapper:ERROR -1 502 Couldn't connect to TWS. Confirm that \"Enable ActiveX and Socket EClients\" \n",
      "is enabled and connection port is the same as \"Socket Port\" on the \n",
      "TWS \"Edit->Global Configuration...->API->Settings\" menu. Live Trading ports: \n",
      "TWS: 7496; IB Gateway: 4001. Simulated Trading ports for new installations \n",
      "of version 954.1 or newer:  TWS: 7497; IB Gateway: 4002\n",
      "ERROR:root:ib client error, req_id:-1, errorCode:502, errorString:Couldn't connect to TWS. Confirm that \"Enable ActiveX and Socket EClients\" \n",
      "is enabled and connection port is the same as \"Socket Port\" on the \n",
      "TWS \"Edit->Global Configuration...->API->Settings\" menu. Live Trading ports: \n",
      "TWS: 7496; IB Gateway: 4001. Simulated Trading ports for new installations \n",
      "of version 954.1 or newer:  TWS: 7497; IB Gateway: 4002\n",
      "ERROR:root:Traceback (most recent call last):\n",
      "  File \"/Users/zhang/PycharmProjects/stratege_engine/se2/infras/ib2.py\", line 204, in ping\n",
      "    time.sleep(10)\n",
      "  File \"/Users/zhang/PycharmProjects/stratege_engine/se2/domain/common.py\", line 212, in inner_wrapper\n",
      "    raise exception\n",
      "  File \"/Users/zhang/PycharmProjects/stratege_engine/se2/domain/common.py\", line 180, in inner_wrapper\n",
      "    res = func(*args, **kwargs)\n",
      "  File \"/Users/zhang/PycharmProjects/stratege_engine/se2/infras/ib2.py\", line 182, in try_connect\n",
      "    raise RuntimeError(\"重新连接失败\")\n",
      "RuntimeError: 重新连接失败\n",
      "\n",
      "ERROR:ibapi.wrapper:ERROR -1 502 Couldn't connect to TWS. Confirm that \"Enable ActiveX and Socket EClients\" \n",
      "is enabled and connection port is the same as \"Socket Port\" on the \n",
      "TWS \"Edit->Global Configuration...->API->Settings\" menu. Live Trading ports: \n",
      "TWS: 7496; IB Gateway: 4001. Simulated Trading ports for new installations \n",
      "of version 954.1 or newer:  TWS: 7497; IB Gateway: 4002\n",
      "ERROR:root:ib client error, req_id:-1, errorCode:502, errorString:Couldn't connect to TWS. Confirm that \"Enable ActiveX and Socket EClients\" \n",
      "is enabled and connection port is the same as \"Socket Port\" on the \n",
      "TWS \"Edit->Global Configuration...->API->Settings\" menu. Live Trading ports: \n",
      "TWS: 7496; IB Gateway: 4001. Simulated Trading ports for new installations \n",
      "of version 954.1 or newer:  TWS: 7497; IB Gateway: 4002\n",
      "ERROR:root:Traceback (most recent call last):\n",
      "  File \"/Users/zhang/PycharmProjects/stratege_engine/se2/infras/ib2.py\", line 204, in ping\n",
      "    time.sleep(10)\n",
      "  File \"/Users/zhang/PycharmProjects/stratege_engine/se2/domain/common.py\", line 212, in inner_wrapper\n",
      "    raise exception\n",
      "  File \"/Users/zhang/PycharmProjects/stratege_engine/se2/domain/common.py\", line 180, in inner_wrapper\n",
      "    res = func(*args, **kwargs)\n",
      "  File \"/Users/zhang/PycharmProjects/stratege_engine/se2/infras/ib2.py\", line 182, in try_connect\n",
      "    raise RuntimeError(\"重新连接失败\")\n",
      "RuntimeError: 重新连接失败\n",
      "\n",
      "ERROR:ibapi.wrapper:ERROR -1 502 Couldn't connect to TWS. Confirm that \"Enable ActiveX and Socket EClients\" \n",
      "is enabled and connection port is the same as \"Socket Port\" on the \n",
      "TWS \"Edit->Global Configuration...->API->Settings\" menu. Live Trading ports: \n",
      "TWS: 7496; IB Gateway: 4001. Simulated Trading ports for new installations \n",
      "of version 954.1 or newer:  TWS: 7497; IB Gateway: 4002\n",
      "ERROR:root:ib client error, req_id:-1, errorCode:502, errorString:Couldn't connect to TWS. Confirm that \"Enable ActiveX and Socket EClients\" \n",
      "is enabled and connection port is the same as \"Socket Port\" on the \n",
      "TWS \"Edit->Global Configuration...->API->Settings\" menu. Live Trading ports: \n",
      "TWS: 7496; IB Gateway: 4001. Simulated Trading ports for new installations \n",
      "of version 954.1 or newer:  TWS: 7497; IB Gateway: 4002\n",
      "ERROR:root:Traceback (most recent call last):\n",
      "  File \"/Users/zhang/PycharmProjects/stratege_engine/se2/infras/ib2.py\", line 204, in ping\n",
      "    time.sleep(10)\n",
      "  File \"/Users/zhang/PycharmProjects/stratege_engine/se2/domain/common.py\", line 212, in inner_wrapper\n",
      "    raise exception\n",
      "  File \"/Users/zhang/PycharmProjects/stratege_engine/se2/domain/common.py\", line 180, in inner_wrapper\n",
      "    res = func(*args, **kwargs)\n",
      "  File \"/Users/zhang/PycharmProjects/stratege_engine/se2/infras/ib2.py\", line 182, in try_connect\n",
      "    raise RuntimeError(\"重新连接失败\")\n",
      "RuntimeError: 重新连接失败\n",
      "\n",
      "ERROR:ibapi.wrapper:ERROR -1 502 Couldn't connect to TWS. Confirm that \"Enable ActiveX and Socket EClients\" \n",
      "is enabled and connection port is the same as \"Socket Port\" on the \n",
      "TWS \"Edit->Global Configuration...->API->Settings\" menu. Live Trading ports: \n",
      "TWS: 7496; IB Gateway: 4001. Simulated Trading ports for new installations \n",
      "of version 954.1 or newer:  TWS: 7497; IB Gateway: 4002\n",
      "ERROR:root:ib client error, req_id:-1, errorCode:502, errorString:Couldn't connect to TWS. Confirm that \"Enable ActiveX and Socket EClients\" \n",
      "is enabled and connection port is the same as \"Socket Port\" on the \n",
      "TWS \"Edit->Global Configuration...->API->Settings\" menu. Live Trading ports: \n",
      "TWS: 7496; IB Gateway: 4001. Simulated Trading ports for new installations \n",
      "of version 954.1 or newer:  TWS: 7497; IB Gateway: 4002\n",
      "ERROR:root:Traceback (most recent call last):\n",
      "  File \"/Users/zhang/PycharmProjects/stratege_engine/se2/infras/ib2.py\", line 204, in ping\n",
      "    time.sleep(10)\n",
      "  File \"/Users/zhang/PycharmProjects/stratege_engine/se2/domain/common.py\", line 212, in inner_wrapper\n",
      "    raise exception\n",
      "  File \"/Users/zhang/PycharmProjects/stratege_engine/se2/domain/common.py\", line 180, in inner_wrapper\n",
      "    res = func(*args, **kwargs)\n",
      "  File \"/Users/zhang/PycharmProjects/stratege_engine/se2/infras/ib2.py\", line 182, in try_connect\n",
      "    raise RuntimeError(\"重新连接失败\")\n",
      "RuntimeError: 重新连接失败\n",
      "\n",
      "WARNING:cassandra.pool:Error attempting to reconnect to 172.16.0.102:9042, scheduling retry in 528.0 seconds: [Errno None] Tried connecting to [('172.16.0.102', 9042)]. Last error: timed out\n",
      "ERROR:ibapi.wrapper:ERROR -1 502 Couldn't connect to TWS. Confirm that \"Enable ActiveX and Socket EClients\" \n",
      "is enabled and connection port is the same as \"Socket Port\" on the \n",
      "TWS \"Edit->Global Configuration...->API->Settings\" menu. Live Trading ports: \n",
      "TWS: 7496; IB Gateway: 4001. Simulated Trading ports for new installations \n",
      "of version 954.1 or newer:  TWS: 7497; IB Gateway: 4002\n",
      "ERROR:root:ib client error, req_id:-1, errorCode:502, errorString:Couldn't connect to TWS. Confirm that \"Enable ActiveX and Socket EClients\" \n",
      "is enabled and connection port is the same as \"Socket Port\" on the \n",
      "TWS \"Edit->Global Configuration...->API->Settings\" menu. Live Trading ports: \n",
      "TWS: 7496; IB Gateway: 4001. Simulated Trading ports for new installations \n",
      "of version 954.1 or newer:  TWS: 7497; IB Gateway: 4002\n",
      "ERROR:root:Traceback (most recent call last):\n",
      "  File \"/Users/zhang/PycharmProjects/stratege_engine/se2/infras/ib2.py\", line 204, in ping\n",
      "    time.sleep(10)\n",
      "  File \"/Users/zhang/PycharmProjects/stratege_engine/se2/domain/common.py\", line 212, in inner_wrapper\n",
      "    raise exception\n",
      "  File \"/Users/zhang/PycharmProjects/stratege_engine/se2/domain/common.py\", line 180, in inner_wrapper\n",
      "    res = func(*args, **kwargs)\n",
      "  File \"/Users/zhang/PycharmProjects/stratege_engine/se2/infras/ib2.py\", line 182, in try_connect\n",
      "    raise RuntimeError(\"重新连接失败\")\n",
      "RuntimeError: 重新连接失败\n",
      "\n",
      "ERROR:ibapi.wrapper:ERROR -1 502 Couldn't connect to TWS. Confirm that \"Enable ActiveX and Socket EClients\" \n",
      "is enabled and connection port is the same as \"Socket Port\" on the \n",
      "TWS \"Edit->Global Configuration...->API->Settings\" menu. Live Trading ports: \n",
      "TWS: 7496; IB Gateway: 4001. Simulated Trading ports for new installations \n",
      "of version 954.1 or newer:  TWS: 7497; IB Gateway: 4002\n",
      "ERROR:root:ib client error, req_id:-1, errorCode:502, errorString:Couldn't connect to TWS. Confirm that \"Enable ActiveX and Socket EClients\" \n",
      "is enabled and connection port is the same as \"Socket Port\" on the \n",
      "TWS \"Edit->Global Configuration...->API->Settings\" menu. Live Trading ports: \n",
      "TWS: 7496; IB Gateway: 4001. Simulated Trading ports for new installations \n",
      "of version 954.1 or newer:  TWS: 7497; IB Gateway: 4002\n",
      "ERROR:root:Traceback (most recent call last):\n",
      "  File \"/Users/zhang/PycharmProjects/stratege_engine/se2/infras/ib2.py\", line 204, in ping\n",
      "    time.sleep(10)\n",
      "  File \"/Users/zhang/PycharmProjects/stratege_engine/se2/domain/common.py\", line 212, in inner_wrapper\n",
      "    raise exception\n",
      "  File \"/Users/zhang/PycharmProjects/stratege_engine/se2/domain/common.py\", line 180, in inner_wrapper\n",
      "    res = func(*args, **kwargs)\n",
      "  File \"/Users/zhang/PycharmProjects/stratege_engine/se2/infras/ib2.py\", line 182, in try_connect\n",
      "    raise RuntimeError(\"重新连接失败\")\n",
      "RuntimeError: 重新连接失败\n",
      "\n",
      "ERROR:ibapi.wrapper:ERROR -1 502 Couldn't connect to TWS. Confirm that \"Enable ActiveX and Socket EClients\" \n",
      "is enabled and connection port is the same as \"Socket Port\" on the \n",
      "TWS \"Edit->Global Configuration...->API->Settings\" menu. Live Trading ports: \n",
      "TWS: 7496; IB Gateway: 4001. Simulated Trading ports for new installations \n",
      "of version 954.1 or newer:  TWS: 7497; IB Gateway: 4002\n",
      "ERROR:root:ib client error, req_id:-1, errorCode:502, errorString:Couldn't connect to TWS. Confirm that \"Enable ActiveX and Socket EClients\" \n",
      "is enabled and connection port is the same as \"Socket Port\" on the \n",
      "TWS \"Edit->Global Configuration...->API->Settings\" menu. Live Trading ports: \n",
      "TWS: 7496; IB Gateway: 4001. Simulated Trading ports for new installations \n",
      "of version 954.1 or newer:  TWS: 7497; IB Gateway: 4002\n",
      "ERROR:root:Traceback (most recent call last):\n",
      "  File \"/Users/zhang/PycharmProjects/stratege_engine/se2/infras/ib2.py\", line 204, in ping\n",
      "    time.sleep(10)\n",
      "  File \"/Users/zhang/PycharmProjects/stratege_engine/se2/domain/common.py\", line 212, in inner_wrapper\n",
      "    raise exception\n",
      "  File \"/Users/zhang/PycharmProjects/stratege_engine/se2/domain/common.py\", line 180, in inner_wrapper\n",
      "    res = func(*args, **kwargs)\n",
      "  File \"/Users/zhang/PycharmProjects/stratege_engine/se2/infras/ib2.py\", line 182, in try_connect\n",
      "    raise RuntimeError(\"重新连接失败\")\n",
      "RuntimeError: 重新连接失败\n",
      "\n",
      "ERROR:ibapi.wrapper:ERROR -1 502 Couldn't connect to TWS. Confirm that \"Enable ActiveX and Socket EClients\" \n",
      "is enabled and connection port is the same as \"Socket Port\" on the \n",
      "TWS \"Edit->Global Configuration...->API->Settings\" menu. Live Trading ports: \n",
      "TWS: 7496; IB Gateway: 4001. Simulated Trading ports for new installations \n",
      "of version 954.1 or newer:  TWS: 7497; IB Gateway: 4002\n",
      "ERROR:root:ib client error, req_id:-1, errorCode:502, errorString:Couldn't connect to TWS. Confirm that \"Enable ActiveX and Socket EClients\" \n",
      "is enabled and connection port is the same as \"Socket Port\" on the \n",
      "TWS \"Edit->Global Configuration...->API->Settings\" menu. Live Trading ports: \n",
      "TWS: 7496; IB Gateway: 4001. Simulated Trading ports for new installations \n",
      "of version 954.1 or newer:  TWS: 7497; IB Gateway: 4002\n",
      "ERROR:root:Traceback (most recent call last):\n",
      "  File \"/Users/zhang/PycharmProjects/stratege_engine/se2/infras/ib2.py\", line 204, in ping\n",
      "    time.sleep(10)\n",
      "  File \"/Users/zhang/PycharmProjects/stratege_engine/se2/domain/common.py\", line 212, in inner_wrapper\n",
      "    raise exception\n",
      "  File \"/Users/zhang/PycharmProjects/stratege_engine/se2/domain/common.py\", line 180, in inner_wrapper\n",
      "    res = func(*args, **kwargs)\n",
      "  File \"/Users/zhang/PycharmProjects/stratege_engine/se2/infras/ib2.py\", line 182, in try_connect\n",
      "    raise RuntimeError(\"重新连接失败\")\n",
      "RuntimeError: 重新连接失败\n",
      "\n",
      "ERROR:ibapi.wrapper:ERROR -1 502 Couldn't connect to TWS. Confirm that \"Enable ActiveX and Socket EClients\" \n",
      "is enabled and connection port is the same as \"Socket Port\" on the \n",
      "TWS \"Edit->Global Configuration...->API->Settings\" menu. Live Trading ports: \n",
      "TWS: 7496; IB Gateway: 4001. Simulated Trading ports for new installations \n",
      "of version 954.1 or newer:  TWS: 7497; IB Gateway: 4002\n",
      "ERROR:root:ib client error, req_id:-1, errorCode:502, errorString:Couldn't connect to TWS. Confirm that \"Enable ActiveX and Socket EClients\" \n",
      "is enabled and connection port is the same as \"Socket Port\" on the \n",
      "TWS \"Edit->Global Configuration...->API->Settings\" menu. Live Trading ports: \n",
      "TWS: 7496; IB Gateway: 4001. Simulated Trading ports for new installations \n",
      "of version 954.1 or newer:  TWS: 7497; IB Gateway: 4002\n",
      "ERROR:root:Traceback (most recent call last):\n",
      "  File \"/Users/zhang/PycharmProjects/stratege_engine/se2/infras/ib2.py\", line 204, in ping\n",
      "    time.sleep(10)\n",
      "  File \"/Users/zhang/PycharmProjects/stratege_engine/se2/domain/common.py\", line 180, in inner_wrapper\n",
      "    res = func(*args, **kwargs)\n",
      "  File \"/Users/zhang/PycharmProjects/stratege_engine/se2/domain/common.py\", line 180, in inner_wrapper\n",
      "    res = func(*args, **kwargs)\n",
      "  File \"/Users/zhang/PycharmProjects/stratege_engine/se2/infras/ib2.py\", line 173, in try_connect\n",
      "    self.connect(host, port, client_id)\n",
      "RuntimeError: 重新连接失败\n",
      "\n",
      "ERROR:ibapi.wrapper:ERROR -1 502 Couldn't connect to TWS. Confirm that \"Enable ActiveX and Socket EClients\" \n",
      "is enabled and connection port is the same as \"Socket Port\" on the \n",
      "TWS \"Edit->Global Configuration...->API->Settings\" menu. Live Trading ports: \n",
      "TWS: 7496; IB Gateway: 4001. Simulated Trading ports for new installations \n",
      "of version 954.1 or newer:  TWS: 7497; IB Gateway: 4002\n",
      "ERROR:root:ib client error, req_id:-1, errorCode:502, errorString:Couldn't connect to TWS. Confirm that \"Enable ActiveX and Socket EClients\" \n",
      "is enabled and connection port is the same as \"Socket Port\" on the \n",
      "TWS \"Edit->Global Configuration...->API->Settings\" menu. Live Trading ports: \n",
      "TWS: 7496; IB Gateway: 4001. Simulated Trading ports for new installations \n",
      "of version 954.1 or newer:  TWS: 7497; IB Gateway: 4002\n",
      "ERROR:root:Traceback (most recent call last):\n",
      "  File \"/Users/zhang/PycharmProjects/stratege_engine/se2/infras/ib2.py\", line 204, in ping\n",
      "    time.sleep(10)\n",
      "  File \"/Users/zhang/PycharmProjects/stratege_engine/se2/domain/common.py\", line 180, in inner_wrapper\n",
      "    res = func(*args, **kwargs)\n",
      "  File \"/Users/zhang/PycharmProjects/stratege_engine/se2/domain/common.py\", line 180, in inner_wrapper\n",
      "    res = func(*args, **kwargs)\n",
      "  File \"/Users/zhang/PycharmProjects/stratege_engine/se2/infras/ib2.py\", line 173, in try_connect\n",
      "    self.connect(host, port, client_id)\n",
      "RuntimeError: 重新连接失败\n",
      "\n",
      "WARNING:cassandra.pool:Error attempting to reconnect to 172.16.0.102:9042, scheduling retry in 600.0 seconds: [Errno None] Tried connecting to [('172.16.0.102', 9042)]. Last error: timed out\n",
      "ERROR:ibapi.wrapper:ERROR -1 502 Couldn't connect to TWS. Confirm that \"Enable ActiveX and Socket EClients\" \n",
      "is enabled and connection port is the same as \"Socket Port\" on the \n",
      "TWS \"Edit->Global Configuration...->API->Settings\" menu. Live Trading ports: \n",
      "TWS: 7496; IB Gateway: 4001. Simulated Trading ports for new installations \n",
      "of version 954.1 or newer:  TWS: 7497; IB Gateway: 4002\n",
      "ERROR:root:ib client error, req_id:-1, errorCode:502, errorString:Couldn't connect to TWS. Confirm that \"Enable ActiveX and Socket EClients\" \n",
      "is enabled and connection port is the same as \"Socket Port\" on the \n",
      "TWS \"Edit->Global Configuration...->API->Settings\" menu. Live Trading ports: \n",
      "TWS: 7496; IB Gateway: 4001. Simulated Trading ports for new installations \n",
      "of version 954.1 or newer:  TWS: 7497; IB Gateway: 4002\n",
      "ERROR:root:Traceback (most recent call last):\n",
      "  File \"/Users/zhang/PycharmProjects/stratege_engine/se2/infras/ib2.py\", line 204, in ping\n",
      "    time.sleep(10)\n",
      "  File \"/Users/zhang/PycharmProjects/stratege_engine/se2/domain/common.py\", line 212, in inner_wrapper\n",
      "    raise exception\n",
      "  File \"/Users/zhang/PycharmProjects/stratege_engine/se2/domain/common.py\", line 180, in inner_wrapper\n",
      "    res = func(*args, **kwargs)\n",
      "  File \"/Users/zhang/PycharmProjects/stratege_engine/se2/infras/ib2.py\", line 182, in try_connect\n",
      "    raise RuntimeError(\"重新连接失败\")\n",
      "RuntimeError: 重新连接失败\n",
      "\n",
      "ERROR:ibapi.wrapper:ERROR -1 502 Couldn't connect to TWS. Confirm that \"Enable ActiveX and Socket EClients\" \n",
      "is enabled and connection port is the same as \"Socket Port\" on the \n",
      "TWS \"Edit->Global Configuration...->API->Settings\" menu. Live Trading ports: \n",
      "TWS: 7496; IB Gateway: 4001. Simulated Trading ports for new installations \n",
      "of version 954.1 or newer:  TWS: 7497; IB Gateway: 4002\n",
      "ERROR:root:ib client error, req_id:-1, errorCode:502, errorString:Couldn't connect to TWS. Confirm that \"Enable ActiveX and Socket EClients\" \n",
      "is enabled and connection port is the same as \"Socket Port\" on the \n",
      "TWS \"Edit->Global Configuration...->API->Settings\" menu. Live Trading ports: \n",
      "TWS: 7496; IB Gateway: 4001. Simulated Trading ports for new installations \n",
      "of version 954.1 or newer:  TWS: 7497; IB Gateway: 4002\n",
      "ERROR:root:Traceback (most recent call last):\n",
      "  File \"/Users/zhang/PycharmProjects/stratege_engine/se2/infras/ib2.py\", line 204, in ping\n",
      "    time.sleep(10)\n",
      "  File \"/Users/zhang/PycharmProjects/stratege_engine/se2/domain/common.py\", line 180, in inner_wrapper\n",
      "    res = func(*args, **kwargs)\n",
      "  File \"/Users/zhang/PycharmProjects/stratege_engine/se2/domain/common.py\", line 180, in inner_wrapper\n",
      "    res = func(*args, **kwargs)\n",
      "  File \"/Users/zhang/PycharmProjects/stratege_engine/se2/infras/ib2.py\", line 173, in try_connect\n",
      "    self.connect(host, port, client_id)\n",
      "RuntimeError: 重新连接失败\n",
      "\n",
      "ERROR:ibapi.wrapper:ERROR -1 502 Couldn't connect to TWS. Confirm that \"Enable ActiveX and Socket EClients\" \n",
      "is enabled and connection port is the same as \"Socket Port\" on the \n",
      "TWS \"Edit->Global Configuration...->API->Settings\" menu. Live Trading ports: \n",
      "TWS: 7496; IB Gateway: 4001. Simulated Trading ports for new installations \n",
      "of version 954.1 or newer:  TWS: 7497; IB Gateway: 4002\n",
      "ERROR:root:ib client error, req_id:-1, errorCode:502, errorString:Couldn't connect to TWS. Confirm that \"Enable ActiveX and Socket EClients\" \n",
      "is enabled and connection port is the same as \"Socket Port\" on the \n",
      "TWS \"Edit->Global Configuration...->API->Settings\" menu. Live Trading ports: \n",
      "TWS: 7496; IB Gateway: 4001. Simulated Trading ports for new installations \n",
      "of version 954.1 or newer:  TWS: 7497; IB Gateway: 4002\n",
      "ERROR:root:Traceback (most recent call last):\n",
      "  File \"/Users/zhang/PycharmProjects/stratege_engine/se2/infras/ib2.py\", line 204, in ping\n",
      "    time.sleep(10)\n",
      "  File \"/Users/zhang/PycharmProjects/stratege_engine/se2/domain/common.py\", line 212, in inner_wrapper\n",
      "    raise exception\n",
      "  File \"/Users/zhang/PycharmProjects/stratege_engine/se2/domain/common.py\", line 180, in inner_wrapper\n",
      "    res = func(*args, **kwargs)\n",
      "  File \"/Users/zhang/PycharmProjects/stratege_engine/se2/infras/ib2.py\", line 182, in try_connect\n",
      "    raise RuntimeError(\"重新连接失败\")\n",
      "RuntimeError: 重新连接失败\n",
      "\n",
      "ERROR:ibapi.wrapper:ERROR -1 502 Couldn't connect to TWS. Confirm that \"Enable ActiveX and Socket EClients\" \n",
      "is enabled and connection port is the same as \"Socket Port\" on the \n",
      "TWS \"Edit->Global Configuration...->API->Settings\" menu. Live Trading ports: \n",
      "TWS: 7496; IB Gateway: 4001. Simulated Trading ports for new installations \n",
      "of version 954.1 or newer:  TWS: 7497; IB Gateway: 4002\n",
      "ERROR:root:ib client error, req_id:-1, errorCode:502, errorString:Couldn't connect to TWS. Confirm that \"Enable ActiveX and Socket EClients\" \n",
      "is enabled and connection port is the same as \"Socket Port\" on the \n",
      "TWS \"Edit->Global Configuration...->API->Settings\" menu. Live Trading ports: \n",
      "TWS: 7496; IB Gateway: 4001. Simulated Trading ports for new installations \n",
      "of version 954.1 or newer:  TWS: 7497; IB Gateway: 4002\n",
      "ERROR:root:Traceback (most recent call last):\n",
      "  File \"/Users/zhang/PycharmProjects/stratege_engine/se2/infras/ib2.py\", line 204, in ping\n",
      "    time.sleep(10)\n",
      "  File \"/Users/zhang/PycharmProjects/stratege_engine/se2/domain/common.py\", line 212, in inner_wrapper\n",
      "    raise exception\n",
      "  File \"/Users/zhang/PycharmProjects/stratege_engine/se2/domain/common.py\", line 180, in inner_wrapper\n",
      "    res = func(*args, **kwargs)\n",
      "  File \"/Users/zhang/PycharmProjects/stratege_engine/se2/infras/ib2.py\", line 182, in try_connect\n",
      "    raise RuntimeError(\"重新连接失败\")\n",
      "RuntimeError: 重新连接失败\n",
      "\n",
      "ERROR:ibapi.wrapper:ERROR -1 502 Couldn't connect to TWS. Confirm that \"Enable ActiveX and Socket EClients\" \n",
      "is enabled and connection port is the same as \"Socket Port\" on the \n",
      "TWS \"Edit->Global Configuration...->API->Settings\" menu. Live Trading ports: \n",
      "TWS: 7496; IB Gateway: 4001. Simulated Trading ports for new installations \n",
      "of version 954.1 or newer:  TWS: 7497; IB Gateway: 4002\n",
      "ERROR:root:ib client error, req_id:-1, errorCode:502, errorString:Couldn't connect to TWS. Confirm that \"Enable ActiveX and Socket EClients\" \n",
      "is enabled and connection port is the same as \"Socket Port\" on the \n",
      "TWS \"Edit->Global Configuration...->API->Settings\" menu. Live Trading ports: \n",
      "TWS: 7496; IB Gateway: 4001. Simulated Trading ports for new installations \n",
      "of version 954.1 or newer:  TWS: 7497; IB Gateway: 4002\n",
      "ERROR:root:Traceback (most recent call last):\n",
      "  File \"/Users/zhang/PycharmProjects/stratege_engine/se2/infras/ib2.py\", line 204, in ping\n",
      "    time.sleep(10)\n",
      "  File \"/Users/zhang/PycharmProjects/stratege_engine/se2/domain/common.py\", line 212, in inner_wrapper\n",
      "    raise exception\n",
      "  File \"/Users/zhang/PycharmProjects/stratege_engine/se2/domain/common.py\", line 180, in inner_wrapper\n",
      "    res = func(*args, **kwargs)\n",
      "  File \"/Users/zhang/PycharmProjects/stratege_engine/se2/infras/ib2.py\", line 182, in try_connect\n",
      "    raise RuntimeError(\"重新连接失败\")\n",
      "RuntimeError: 重新连接失败\n",
      "\n",
      "ERROR:ibapi.wrapper:ERROR -1 502 Couldn't connect to TWS. Confirm that \"Enable ActiveX and Socket EClients\" \n",
      "is enabled and connection port is the same as \"Socket Port\" on the \n",
      "TWS \"Edit->Global Configuration...->API->Settings\" menu. Live Trading ports: \n",
      "TWS: 7496; IB Gateway: 4001. Simulated Trading ports for new installations \n",
      "of version 954.1 or newer:  TWS: 7497; IB Gateway: 4002\n",
      "ERROR:root:ib client error, req_id:-1, errorCode:502, errorString:Couldn't connect to TWS. Confirm that \"Enable ActiveX and Socket EClients\" \n",
      "is enabled and connection port is the same as \"Socket Port\" on the \n",
      "TWS \"Edit->Global Configuration...->API->Settings\" menu. Live Trading ports: \n",
      "TWS: 7496; IB Gateway: 4001. Simulated Trading ports for new installations \n",
      "of version 954.1 or newer:  TWS: 7497; IB Gateway: 4002\n",
      "ERROR:root:Traceback (most recent call last):\n",
      "  File \"/Users/zhang/PycharmProjects/stratege_engine/se2/infras/ib2.py\", line 204, in ping\n",
      "    time.sleep(10)\n",
      "  File \"/Users/zhang/PycharmProjects/stratege_engine/se2/domain/common.py\", line 212, in inner_wrapper\n",
      "    raise exception\n",
      "  File \"/Users/zhang/PycharmProjects/stratege_engine/se2/domain/common.py\", line 180, in inner_wrapper\n",
      "    res = func(*args, **kwargs)\n",
      "  File \"/Users/zhang/PycharmProjects/stratege_engine/se2/infras/ib2.py\", line 182, in try_connect\n",
      "    raise RuntimeError(\"重新连接失败\")\n",
      "RuntimeError: 重新连接失败\n",
      "\n",
      "ERROR:ibapi.wrapper:ERROR -1 502 Couldn't connect to TWS. Confirm that \"Enable ActiveX and Socket EClients\" \n",
      "is enabled and connection port is the same as \"Socket Port\" on the \n",
      "TWS \"Edit->Global Configuration...->API->Settings\" menu. Live Trading ports: \n",
      "TWS: 7496; IB Gateway: 4001. Simulated Trading ports for new installations \n",
      "of version 954.1 or newer:  TWS: 7497; IB Gateway: 4002\n",
      "ERROR:root:ib client error, req_id:-1, errorCode:502, errorString:Couldn't connect to TWS. Confirm that \"Enable ActiveX and Socket EClients\" \n",
      "is enabled and connection port is the same as \"Socket Port\" on the \n",
      "TWS \"Edit->Global Configuration...->API->Settings\" menu. Live Trading ports: \n",
      "TWS: 7496; IB Gateway: 4001. Simulated Trading ports for new installations \n",
      "of version 954.1 or newer:  TWS: 7497; IB Gateway: 4002\n",
      "ERROR:root:Traceback (most recent call last):\n",
      "  File \"/Users/zhang/PycharmProjects/stratege_engine/se2/infras/ib2.py\", line 204, in ping\n",
      "    time.sleep(10)\n",
      "  File \"/Users/zhang/PycharmProjects/stratege_engine/se2/domain/common.py\", line 212, in inner_wrapper\n",
      "    raise exception\n",
      "  File \"/Users/zhang/PycharmProjects/stratege_engine/se2/domain/common.py\", line 180, in inner_wrapper\n",
      "    res = func(*args, **kwargs)\n",
      "  File \"/Users/zhang/PycharmProjects/stratege_engine/se2/infras/ib2.py\", line 182, in try_connect\n",
      "    raise RuntimeError(\"重新连接失败\")\n",
      "RuntimeError: 重新连接失败\n",
      "\n",
      "WARNING:cassandra.pool:Error attempting to reconnect to 172.16.0.102:9042, scheduling retry in 600.0 seconds: [Errno None] Tried connecting to [('172.16.0.102', 9042)]. Last error: timed out\n",
      "ERROR:ibapi.wrapper:ERROR -1 502 Couldn't connect to TWS. Confirm that \"Enable ActiveX and Socket EClients\" \n",
      "is enabled and connection port is the same as \"Socket Port\" on the \n",
      "TWS \"Edit->Global Configuration...->API->Settings\" menu. Live Trading ports: \n",
      "TWS: 7496; IB Gateway: 4001. Simulated Trading ports for new installations \n",
      "of version 954.1 or newer:  TWS: 7497; IB Gateway: 4002\n",
      "ERROR:root:ib client error, req_id:-1, errorCode:502, errorString:Couldn't connect to TWS. Confirm that \"Enable ActiveX and Socket EClients\" \n",
      "is enabled and connection port is the same as \"Socket Port\" on the \n",
      "TWS \"Edit->Global Configuration...->API->Settings\" menu. Live Trading ports: \n",
      "TWS: 7496; IB Gateway: 4001. Simulated Trading ports for new installations \n",
      "of version 954.1 or newer:  TWS: 7497; IB Gateway: 4002\n",
      "ERROR:root:Traceback (most recent call last):\n",
      "  File \"/Users/zhang/PycharmProjects/stratege_engine/se2/infras/ib2.py\", line 204, in ping\n",
      "    time.sleep(10)\n",
      "  File \"/Users/zhang/PycharmProjects/stratege_engine/se2/domain/common.py\", line 212, in inner_wrapper\n",
      "    raise exception\n",
      "  File \"/Users/zhang/PycharmProjects/stratege_engine/se2/domain/common.py\", line 180, in inner_wrapper\n",
      "    res = func(*args, **kwargs)\n",
      "  File \"/Users/zhang/PycharmProjects/stratege_engine/se2/infras/ib2.py\", line 182, in try_connect\n",
      "    raise RuntimeError(\"重新连接失败\")\n",
      "RuntimeError: 重新连接失败\n",
      "\n",
      "ERROR:ibapi.wrapper:ERROR -1 502 Couldn't connect to TWS. Confirm that \"Enable ActiveX and Socket EClients\" \n",
      "is enabled and connection port is the same as \"Socket Port\" on the \n",
      "TWS \"Edit->Global Configuration...->API->Settings\" menu. Live Trading ports: \n",
      "TWS: 7496; IB Gateway: 4001. Simulated Trading ports for new installations \n",
      "of version 954.1 or newer:  TWS: 7497; IB Gateway: 4002\n",
      "ERROR:root:ib client error, req_id:-1, errorCode:502, errorString:Couldn't connect to TWS. Confirm that \"Enable ActiveX and Socket EClients\" \n",
      "is enabled and connection port is the same as \"Socket Port\" on the \n",
      "TWS \"Edit->Global Configuration...->API->Settings\" menu. Live Trading ports: \n",
      "TWS: 7496; IB Gateway: 4001. Simulated Trading ports for new installations \n",
      "of version 954.1 or newer:  TWS: 7497; IB Gateway: 4002\n",
      "ERROR:root:Traceback (most recent call last):\n",
      "  File \"/Users/zhang/PycharmProjects/stratege_engine/se2/infras/ib2.py\", line 204, in ping\n",
      "    time.sleep(10)\n",
      "  File \"/Users/zhang/PycharmProjects/stratege_engine/se2/domain/common.py\", line 212, in inner_wrapper\n",
      "    raise exception\n",
      "  File \"/Users/zhang/PycharmProjects/stratege_engine/se2/domain/common.py\", line 180, in inner_wrapper\n",
      "    res = func(*args, **kwargs)\n",
      "  File \"/Users/zhang/PycharmProjects/stratege_engine/se2/infras/ib2.py\", line 182, in try_connect\n",
      "    raise RuntimeError(\"重新连接失败\")\n",
      "RuntimeError: 重新连接失败\n",
      "\n",
      "ERROR:ibapi.wrapper:ERROR -1 502 Couldn't connect to TWS. Confirm that \"Enable ActiveX and Socket EClients\" \n",
      "is enabled and connection port is the same as \"Socket Port\" on the \n",
      "TWS \"Edit->Global Configuration...->API->Settings\" menu. Live Trading ports: \n",
      "TWS: 7496; IB Gateway: 4001. Simulated Trading ports for new installations \n",
      "of version 954.1 or newer:  TWS: 7497; IB Gateway: 4002\n",
      "ERROR:root:ib client error, req_id:-1, errorCode:502, errorString:Couldn't connect to TWS. Confirm that \"Enable ActiveX and Socket EClients\" \n",
      "is enabled and connection port is the same as \"Socket Port\" on the \n",
      "TWS \"Edit->Global Configuration...->API->Settings\" menu. Live Trading ports: \n",
      "TWS: 7496; IB Gateway: 4001. Simulated Trading ports for new installations \n",
      "of version 954.1 or newer:  TWS: 7497; IB Gateway: 4002\n",
      "ERROR:root:Traceback (most recent call last):\n",
      "  File \"/Users/zhang/PycharmProjects/stratege_engine/se2/infras/ib2.py\", line 204, in ping\n",
      "    time.sleep(10)\n",
      "  File \"/Users/zhang/PycharmProjects/stratege_engine/se2/domain/common.py\", line 212, in inner_wrapper\n",
      "    raise exception\n",
      "  File \"/Users/zhang/PycharmProjects/stratege_engine/se2/domain/common.py\", line 180, in inner_wrapper\n",
      "    res = func(*args, **kwargs)\n",
      "  File \"/Users/zhang/PycharmProjects/stratege_engine/se2/infras/ib2.py\", line 182, in try_connect\n",
      "    raise RuntimeError(\"重新连接失败\")\n",
      "RuntimeError: 重新连接失败\n",
      "\n",
      "ERROR:ibapi.wrapper:ERROR -1 502 Couldn't connect to TWS. Confirm that \"Enable ActiveX and Socket EClients\" \n",
      "is enabled and connection port is the same as \"Socket Port\" on the \n",
      "TWS \"Edit->Global Configuration...->API->Settings\" menu. Live Trading ports: \n",
      "TWS: 7496; IB Gateway: 4001. Simulated Trading ports for new installations \n",
      "of version 954.1 or newer:  TWS: 7497; IB Gateway: 4002\n",
      "ERROR:root:ib client error, req_id:-1, errorCode:502, errorString:Couldn't connect to TWS. Confirm that \"Enable ActiveX and Socket EClients\" \n",
      "is enabled and connection port is the same as \"Socket Port\" on the \n",
      "TWS \"Edit->Global Configuration...->API->Settings\" menu. Live Trading ports: \n",
      "TWS: 7496; IB Gateway: 4001. Simulated Trading ports for new installations \n",
      "of version 954.1 or newer:  TWS: 7497; IB Gateway: 4002\n",
      "ERROR:root:Traceback (most recent call last):\n",
      "  File \"/Users/zhang/PycharmProjects/stratege_engine/se2/infras/ib2.py\", line 204, in ping\n",
      "    time.sleep(10)\n",
      "  File \"/Users/zhang/PycharmProjects/stratege_engine/se2/domain/common.py\", line 212, in inner_wrapper\n",
      "    raise exception\n",
      "  File \"/Users/zhang/PycharmProjects/stratege_engine/se2/domain/common.py\", line 180, in inner_wrapper\n",
      "    res = func(*args, **kwargs)\n",
      "  File \"/Users/zhang/PycharmProjects/stratege_engine/se2/infras/ib2.py\", line 182, in try_connect\n",
      "    raise RuntimeError(\"重新连接失败\")\n",
      "RuntimeError: 重新连接失败\n",
      "\n",
      "ERROR:ibapi.wrapper:ERROR -1 502 Couldn't connect to TWS. Confirm that \"Enable ActiveX and Socket EClients\" \n",
      "is enabled and connection port is the same as \"Socket Port\" on the \n",
      "TWS \"Edit->Global Configuration...->API->Settings\" menu. Live Trading ports: \n",
      "TWS: 7496; IB Gateway: 4001. Simulated Trading ports for new installations \n",
      "of version 954.1 or newer:  TWS: 7497; IB Gateway: 4002\n",
      "ERROR:root:ib client error, req_id:-1, errorCode:502, errorString:Couldn't connect to TWS. Confirm that \"Enable ActiveX and Socket EClients\" \n",
      "is enabled and connection port is the same as \"Socket Port\" on the \n",
      "TWS \"Edit->Global Configuration...->API->Settings\" menu. Live Trading ports: \n",
      "TWS: 7496; IB Gateway: 4001. Simulated Trading ports for new installations \n",
      "of version 954.1 or newer:  TWS: 7497; IB Gateway: 4002\n",
      "ERROR:root:Traceback (most recent call last):\n",
      "  File \"/Users/zhang/PycharmProjects/stratege_engine/se2/infras/ib2.py\", line 204, in ping\n",
      "    time.sleep(10)\n",
      "  File \"/Users/zhang/PycharmProjects/stratege_engine/se2/domain/common.py\", line 212, in inner_wrapper\n",
      "    raise exception\n",
      "  File \"/Users/zhang/PycharmProjects/stratege_engine/se2/domain/common.py\", line 180, in inner_wrapper\n",
      "    res = func(*args, **kwargs)\n",
      "  File \"/Users/zhang/PycharmProjects/stratege_engine/se2/infras/ib2.py\", line 182, in try_connect\n",
      "    raise RuntimeError(\"重新连接失败\")\n",
      "RuntimeError: 重新连接失败\n",
      "\n",
      "ERROR:ibapi.wrapper:ERROR -1 502 Couldn't connect to TWS. Confirm that \"Enable ActiveX and Socket EClients\" \n",
      "is enabled and connection port is the same as \"Socket Port\" on the \n",
      "TWS \"Edit->Global Configuration...->API->Settings\" menu. Live Trading ports: \n",
      "TWS: 7496; IB Gateway: 4001. Simulated Trading ports for new installations \n",
      "of version 954.1 or newer:  TWS: 7497; IB Gateway: 4002\n",
      "ERROR:root:ib client error, req_id:-1, errorCode:502, errorString:Couldn't connect to TWS. Confirm that \"Enable ActiveX and Socket EClients\" \n",
      "is enabled and connection port is the same as \"Socket Port\" on the \n",
      "TWS \"Edit->Global Configuration...->API->Settings\" menu. Live Trading ports: \n",
      "TWS: 7496; IB Gateway: 4001. Simulated Trading ports for new installations \n",
      "of version 954.1 or newer:  TWS: 7497; IB Gateway: 4002\n",
      "ERROR:root:Traceback (most recent call last):\n",
      "  File \"/Users/zhang/PycharmProjects/stratege_engine/se2/infras/ib2.py\", line 204, in ping\n",
      "    time.sleep(10)\n",
      "  File \"/Users/zhang/PycharmProjects/stratege_engine/se2/domain/common.py\", line 212, in inner_wrapper\n",
      "    raise exception\n",
      "  File \"/Users/zhang/PycharmProjects/stratege_engine/se2/domain/common.py\", line 180, in inner_wrapper\n",
      "    res = func(*args, **kwargs)\n",
      "  File \"/Users/zhang/PycharmProjects/stratege_engine/se2/infras/ib2.py\", line 182, in try_connect\n",
      "    raise RuntimeError(\"重新连接失败\")\n",
      "RuntimeError: 重新连接失败\n",
      "\n",
      "ERROR:ibapi.wrapper:ERROR -1 502 Couldn't connect to TWS. Confirm that \"Enable ActiveX and Socket EClients\" \n",
      "is enabled and connection port is the same as \"Socket Port\" on the \n",
      "TWS \"Edit->Global Configuration...->API->Settings\" menu. Live Trading ports: \n",
      "TWS: 7496; IB Gateway: 4001. Simulated Trading ports for new installations \n",
      "of version 954.1 or newer:  TWS: 7497; IB Gateway: 4002\n",
      "ERROR:root:ib client error, req_id:-1, errorCode:502, errorString:Couldn't connect to TWS. Confirm that \"Enable ActiveX and Socket EClients\" \n",
      "is enabled and connection port is the same as \"Socket Port\" on the \n",
      "TWS \"Edit->Global Configuration...->API->Settings\" menu. Live Trading ports: \n",
      "TWS: 7496; IB Gateway: 4001. Simulated Trading ports for new installations \n",
      "of version 954.1 or newer:  TWS: 7497; IB Gateway: 4002\n",
      "ERROR:root:Traceback (most recent call last):\n",
      "  File \"/Users/zhang/PycharmProjects/stratege_engine/se2/infras/ib2.py\", line 204, in ping\n",
      "    time.sleep(10)\n",
      "  File \"/Users/zhang/PycharmProjects/stratege_engine/se2/domain/common.py\", line 212, in inner_wrapper\n",
      "    raise exception\n",
      "  File \"/Users/zhang/PycharmProjects/stratege_engine/se2/domain/common.py\", line 180, in inner_wrapper\n",
      "    res = func(*args, **kwargs)\n",
      "  File \"/Users/zhang/PycharmProjects/stratege_engine/se2/infras/ib2.py\", line 182, in try_connect\n",
      "    raise RuntimeError(\"重新连接失败\")\n",
      "RuntimeError: 重新连接失败\n",
      "\n",
      "WARNING:cassandra.pool:Error attempting to reconnect to 172.16.0.102:9042, scheduling retry in 600.0 seconds: [Errno None] Tried connecting to [('172.16.0.102', 9042)]. Last error: timed out\n",
      "ERROR:ibapi.wrapper:ERROR -1 502 Couldn't connect to TWS. Confirm that \"Enable ActiveX and Socket EClients\" \n",
      "is enabled and connection port is the same as \"Socket Port\" on the \n",
      "TWS \"Edit->Global Configuration...->API->Settings\" menu. Live Trading ports: \n",
      "TWS: 7496; IB Gateway: 4001. Simulated Trading ports for new installations \n",
      "of version 954.1 or newer:  TWS: 7497; IB Gateway: 4002\n",
      "ERROR:root:ib client error, req_id:-1, errorCode:502, errorString:Couldn't connect to TWS. Confirm that \"Enable ActiveX and Socket EClients\" \n",
      "is enabled and connection port is the same as \"Socket Port\" on the \n",
      "TWS \"Edit->Global Configuration...->API->Settings\" menu. Live Trading ports: \n",
      "TWS: 7496; IB Gateway: 4001. Simulated Trading ports for new installations \n",
      "of version 954.1 or newer:  TWS: 7497; IB Gateway: 4002\n",
      "ERROR:root:Traceback (most recent call last):\n",
      "  File \"/Users/zhang/PycharmProjects/stratege_engine/se2/infras/ib2.py\", line 204, in ping\n",
      "    time.sleep(10)\n",
      "  File \"/Users/zhang/PycharmProjects/stratege_engine/se2/domain/common.py\", line 212, in inner_wrapper\n",
      "    raise exception\n",
      "  File \"/Users/zhang/PycharmProjects/stratege_engine/se2/domain/common.py\", line 180, in inner_wrapper\n",
      "    res = func(*args, **kwargs)\n",
      "  File \"/Users/zhang/PycharmProjects/stratege_engine/se2/infras/ib2.py\", line 182, in try_connect\n",
      "    raise RuntimeError(\"重新连接失败\")\n",
      "RuntimeError: 重新连接失败\n",
      "\n",
      "ERROR:ibapi.wrapper:ERROR -1 502 Couldn't connect to TWS. Confirm that \"Enable ActiveX and Socket EClients\" \n",
      "is enabled and connection port is the same as \"Socket Port\" on the \n",
      "TWS \"Edit->Global Configuration...->API->Settings\" menu. Live Trading ports: \n",
      "TWS: 7496; IB Gateway: 4001. Simulated Trading ports for new installations \n",
      "of version 954.1 or newer:  TWS: 7497; IB Gateway: 4002\n",
      "ERROR:root:ib client error, req_id:-1, errorCode:502, errorString:Couldn't connect to TWS. Confirm that \"Enable ActiveX and Socket EClients\" \n",
      "is enabled and connection port is the same as \"Socket Port\" on the \n",
      "TWS \"Edit->Global Configuration...->API->Settings\" menu. Live Trading ports: \n",
      "TWS: 7496; IB Gateway: 4001. Simulated Trading ports for new installations \n",
      "of version 954.1 or newer:  TWS: 7497; IB Gateway: 4002\n",
      "ERROR:root:Traceback (most recent call last):\n",
      "  File \"/Users/zhang/PycharmProjects/stratege_engine/se2/infras/ib2.py\", line 204, in ping\n",
      "    time.sleep(10)\n",
      "  File \"/Users/zhang/PycharmProjects/stratege_engine/se2/domain/common.py\", line 212, in inner_wrapper\n",
      "    raise exception\n",
      "  File \"/Users/zhang/PycharmProjects/stratege_engine/se2/domain/common.py\", line 180, in inner_wrapper\n",
      "    res = func(*args, **kwargs)\n",
      "  File \"/Users/zhang/PycharmProjects/stratege_engine/se2/infras/ib2.py\", line 182, in try_connect\n",
      "    raise RuntimeError(\"重新连接失败\")\n",
      "RuntimeError: 重新连接失败\n",
      "\n",
      "ERROR:ibapi.wrapper:ERROR -1 502 Couldn't connect to TWS. Confirm that \"Enable ActiveX and Socket EClients\" \n",
      "is enabled and connection port is the same as \"Socket Port\" on the \n",
      "TWS \"Edit->Global Configuration...->API->Settings\" menu. Live Trading ports: \n",
      "TWS: 7496; IB Gateway: 4001. Simulated Trading ports for new installations \n",
      "of version 954.1 or newer:  TWS: 7497; IB Gateway: 4002\n",
      "ERROR:root:ib client error, req_id:-1, errorCode:502, errorString:Couldn't connect to TWS. Confirm that \"Enable ActiveX and Socket EClients\" \n",
      "is enabled and connection port is the same as \"Socket Port\" on the \n",
      "TWS \"Edit->Global Configuration...->API->Settings\" menu. Live Trading ports: \n",
      "TWS: 7496; IB Gateway: 4001. Simulated Trading ports for new installations \n",
      "of version 954.1 or newer:  TWS: 7497; IB Gateway: 4002\n",
      "ERROR:root:Traceback (most recent call last):\n",
      "  File \"/Users/zhang/PycharmProjects/stratege_engine/se2/infras/ib2.py\", line 204, in ping\n",
      "    time.sleep(10)\n",
      "  File \"/Users/zhang/PycharmProjects/stratege_engine/se2/domain/common.py\", line 212, in inner_wrapper\n",
      "    raise exception\n",
      "  File \"/Users/zhang/PycharmProjects/stratege_engine/se2/domain/common.py\", line 180, in inner_wrapper\n",
      "    res = func(*args, **kwargs)\n",
      "  File \"/Users/zhang/PycharmProjects/stratege_engine/se2/infras/ib2.py\", line 182, in try_connect\n",
      "    raise RuntimeError(\"重新连接失败\")\n",
      "RuntimeError: 重新连接失败\n",
      "\n",
      "ERROR:ibapi.wrapper:ERROR -1 502 Couldn't connect to TWS. Confirm that \"Enable ActiveX and Socket EClients\" \n",
      "is enabled and connection port is the same as \"Socket Port\" on the \n",
      "TWS \"Edit->Global Configuration...->API->Settings\" menu. Live Trading ports: \n",
      "TWS: 7496; IB Gateway: 4001. Simulated Trading ports for new installations \n",
      "of version 954.1 or newer:  TWS: 7497; IB Gateway: 4002\n",
      "ERROR:root:ib client error, req_id:-1, errorCode:502, errorString:Couldn't connect to TWS. Confirm that \"Enable ActiveX and Socket EClients\" \n",
      "is enabled and connection port is the same as \"Socket Port\" on the \n",
      "TWS \"Edit->Global Configuration...->API->Settings\" menu. Live Trading ports: \n",
      "TWS: 7496; IB Gateway: 4001. Simulated Trading ports for new installations \n",
      "of version 954.1 or newer:  TWS: 7497; IB Gateway: 4002\n",
      "ERROR:root:Traceback (most recent call last):\n",
      "  File \"/Users/zhang/PycharmProjects/stratege_engine/se2/infras/ib2.py\", line 204, in ping\n",
      "    time.sleep(10)\n",
      "  File \"/Users/zhang/PycharmProjects/stratege_engine/se2/domain/common.py\", line 212, in inner_wrapper\n",
      "    raise exception\n",
      "  File \"/Users/zhang/PycharmProjects/stratege_engine/se2/domain/common.py\", line 180, in inner_wrapper\n",
      "    res = func(*args, **kwargs)\n",
      "  File \"/Users/zhang/PycharmProjects/stratege_engine/se2/infras/ib2.py\", line 182, in try_connect\n",
      "    raise RuntimeError(\"重新连接失败\")\n",
      "RuntimeError: 重新连接失败\n",
      "\n",
      "ERROR:ibapi.wrapper:ERROR -1 502 Couldn't connect to TWS. Confirm that \"Enable ActiveX and Socket EClients\" \n",
      "is enabled and connection port is the same as \"Socket Port\" on the \n",
      "TWS \"Edit->Global Configuration...->API->Settings\" menu. Live Trading ports: \n",
      "TWS: 7496; IB Gateway: 4001. Simulated Trading ports for new installations \n",
      "of version 954.1 or newer:  TWS: 7497; IB Gateway: 4002\n",
      "ERROR:root:ib client error, req_id:-1, errorCode:502, errorString:Couldn't connect to TWS. Confirm that \"Enable ActiveX and Socket EClients\" \n",
      "is enabled and connection port is the same as \"Socket Port\" on the \n",
      "TWS \"Edit->Global Configuration...->API->Settings\" menu. Live Trading ports: \n",
      "TWS: 7496; IB Gateway: 4001. Simulated Trading ports for new installations \n",
      "of version 954.1 or newer:  TWS: 7497; IB Gateway: 4002\n",
      "ERROR:root:Traceback (most recent call last):\n",
      "  File \"/Users/zhang/PycharmProjects/stratege_engine/se2/infras/ib2.py\", line 204, in ping\n",
      "    time.sleep(10)\n",
      "  File \"/Users/zhang/PycharmProjects/stratege_engine/se2/domain/common.py\", line 212, in inner_wrapper\n",
      "    raise exception\n",
      "  File \"/Users/zhang/PycharmProjects/stratege_engine/se2/domain/common.py\", line 180, in inner_wrapper\n",
      "    res = func(*args, **kwargs)\n",
      "  File \"/Users/zhang/PycharmProjects/stratege_engine/se2/infras/ib2.py\", line 182, in try_connect\n",
      "    raise RuntimeError(\"重新连接失败\")\n",
      "RuntimeError: 重新连接失败\n",
      "\n",
      "ERROR:ibapi.wrapper:ERROR -1 502 Couldn't connect to TWS. Confirm that \"Enable ActiveX and Socket EClients\" \n",
      "is enabled and connection port is the same as \"Socket Port\" on the \n",
      "TWS \"Edit->Global Configuration...->API->Settings\" menu. Live Trading ports: \n",
      "TWS: 7496; IB Gateway: 4001. Simulated Trading ports for new installations \n",
      "of version 954.1 or newer:  TWS: 7497; IB Gateway: 4002\n",
      "ERROR:root:ib client error, req_id:-1, errorCode:502, errorString:Couldn't connect to TWS. Confirm that \"Enable ActiveX and Socket EClients\" \n",
      "is enabled and connection port is the same as \"Socket Port\" on the \n",
      "TWS \"Edit->Global Configuration...->API->Settings\" menu. Live Trading ports: \n",
      "TWS: 7496; IB Gateway: 4001. Simulated Trading ports for new installations \n",
      "of version 954.1 or newer:  TWS: 7497; IB Gateway: 4002\n",
      "ERROR:root:Traceback (most recent call last):\n",
      "  File \"/Users/zhang/PycharmProjects/stratege_engine/se2/infras/ib2.py\", line 204, in ping\n",
      "    time.sleep(10)\n",
      "  File \"/Users/zhang/PycharmProjects/stratege_engine/se2/domain/common.py\", line 212, in inner_wrapper\n",
      "    raise exception\n",
      "  File \"/Users/zhang/PycharmProjects/stratege_engine/se2/domain/common.py\", line 180, in inner_wrapper\n",
      "    res = func(*args, **kwargs)\n",
      "  File \"/Users/zhang/PycharmProjects/stratege_engine/se2/infras/ib2.py\", line 182, in try_connect\n",
      "    raise RuntimeError(\"重新连接失败\")\n",
      "RuntimeError: 重新连接失败\n",
      "\n",
      "ERROR:ibapi.wrapper:ERROR -1 502 Couldn't connect to TWS. Confirm that \"Enable ActiveX and Socket EClients\" \n",
      "is enabled and connection port is the same as \"Socket Port\" on the \n",
      "TWS \"Edit->Global Configuration...->API->Settings\" menu. Live Trading ports: \n",
      "TWS: 7496; IB Gateway: 4001. Simulated Trading ports for new installations \n",
      "of version 954.1 or newer:  TWS: 7497; IB Gateway: 4002\n",
      "ERROR:root:ib client error, req_id:-1, errorCode:502, errorString:Couldn't connect to TWS. Confirm that \"Enable ActiveX and Socket EClients\" \n",
      "is enabled and connection port is the same as \"Socket Port\" on the \n",
      "TWS \"Edit->Global Configuration...->API->Settings\" menu. Live Trading ports: \n",
      "TWS: 7496; IB Gateway: 4001. Simulated Trading ports for new installations \n",
      "of version 954.1 or newer:  TWS: 7497; IB Gateway: 4002\n",
      "ERROR:root:Traceback (most recent call last):\n",
      "  File \"/Users/zhang/PycharmProjects/stratege_engine/se2/infras/ib2.py\", line 204, in ping\n",
      "    time.sleep(10)\n",
      "  File \"/Users/zhang/PycharmProjects/stratege_engine/se2/domain/common.py\", line 212, in inner_wrapper\n",
      "    raise exception\n",
      "  File \"/Users/zhang/PycharmProjects/stratege_engine/se2/domain/common.py\", line 180, in inner_wrapper\n",
      "    res = func(*args, **kwargs)\n",
      "  File \"/Users/zhang/PycharmProjects/stratege_engine/se2/infras/ib2.py\", line 182, in try_connect\n",
      "    raise RuntimeError(\"重新连接失败\")\n",
      "RuntimeError: 重新连接失败\n",
      "\n",
      "WARNING:cassandra.pool:Error attempting to reconnect to 172.16.0.102:9042, scheduling retry in 600.0 seconds: [Errno None] Tried connecting to [('172.16.0.102', 9042)]. Last error: timed out\n",
      "ERROR:ibapi.wrapper:ERROR -1 502 Couldn't connect to TWS. Confirm that \"Enable ActiveX and Socket EClients\" \n",
      "is enabled and connection port is the same as \"Socket Port\" on the \n",
      "TWS \"Edit->Global Configuration...->API->Settings\" menu. Live Trading ports: \n",
      "TWS: 7496; IB Gateway: 4001. Simulated Trading ports for new installations \n",
      "of version 954.1 or newer:  TWS: 7497; IB Gateway: 4002\n",
      "ERROR:root:ib client error, req_id:-1, errorCode:502, errorString:Couldn't connect to TWS. Confirm that \"Enable ActiveX and Socket EClients\" \n",
      "is enabled and connection port is the same as \"Socket Port\" on the \n",
      "TWS \"Edit->Global Configuration...->API->Settings\" menu. Live Trading ports: \n",
      "TWS: 7496; IB Gateway: 4001. Simulated Trading ports for new installations \n",
      "of version 954.1 or newer:  TWS: 7497; IB Gateway: 4002\n",
      "ERROR:root:Traceback (most recent call last):\n",
      "  File \"/Users/zhang/PycharmProjects/stratege_engine/se2/infras/ib2.py\", line 204, in ping\n",
      "    time.sleep(10)\n",
      "  File \"/Users/zhang/PycharmProjects/stratege_engine/se2/domain/common.py\", line 212, in inner_wrapper\n",
      "    raise exception\n",
      "  File \"/Users/zhang/PycharmProjects/stratege_engine/se2/domain/common.py\", line 180, in inner_wrapper\n",
      "    res = func(*args, **kwargs)\n",
      "  File \"/Users/zhang/PycharmProjects/stratege_engine/se2/infras/ib2.py\", line 182, in try_connect\n",
      "    raise RuntimeError(\"重新连接失败\")\n",
      "RuntimeError: 重新连接失败\n",
      "\n",
      "ERROR:ibapi.wrapper:ERROR -1 502 Couldn't connect to TWS. Confirm that \"Enable ActiveX and Socket EClients\" \n",
      "is enabled and connection port is the same as \"Socket Port\" on the \n",
      "TWS \"Edit->Global Configuration...->API->Settings\" menu. Live Trading ports: \n",
      "TWS: 7496; IB Gateway: 4001. Simulated Trading ports for new installations \n",
      "of version 954.1 or newer:  TWS: 7497; IB Gateway: 4002\n",
      "ERROR:root:ib client error, req_id:-1, errorCode:502, errorString:Couldn't connect to TWS. Confirm that \"Enable ActiveX and Socket EClients\" \n",
      "is enabled and connection port is the same as \"Socket Port\" on the \n",
      "TWS \"Edit->Global Configuration...->API->Settings\" menu. Live Trading ports: \n",
      "TWS: 7496; IB Gateway: 4001. Simulated Trading ports for new installations \n",
      "of version 954.1 or newer:  TWS: 7497; IB Gateway: 4002\n",
      "ERROR:root:Traceback (most recent call last):\n",
      "  File \"/Users/zhang/PycharmProjects/stratege_engine/se2/infras/ib2.py\", line 204, in ping\n",
      "    time.sleep(10)\n",
      "  File \"/Users/zhang/PycharmProjects/stratege_engine/se2/domain/common.py\", line 212, in inner_wrapper\n",
      "    raise exception\n",
      "  File \"/Users/zhang/PycharmProjects/stratege_engine/se2/domain/common.py\", line 180, in inner_wrapper\n",
      "    res = func(*args, **kwargs)\n",
      "  File \"/Users/zhang/PycharmProjects/stratege_engine/se2/infras/ib2.py\", line 182, in try_connect\n",
      "    raise RuntimeError(\"重新连接失败\")\n",
      "RuntimeError: 重新连接失败\n",
      "\n",
      "ERROR:ibapi.wrapper:ERROR -1 502 Couldn't connect to TWS. Confirm that \"Enable ActiveX and Socket EClients\" \n",
      "is enabled and connection port is the same as \"Socket Port\" on the \n",
      "TWS \"Edit->Global Configuration...->API->Settings\" menu. Live Trading ports: \n",
      "TWS: 7496; IB Gateway: 4001. Simulated Trading ports for new installations \n",
      "of version 954.1 or newer:  TWS: 7497; IB Gateway: 4002\n",
      "ERROR:root:ib client error, req_id:-1, errorCode:502, errorString:Couldn't connect to TWS. Confirm that \"Enable ActiveX and Socket EClients\" \n",
      "is enabled and connection port is the same as \"Socket Port\" on the \n",
      "TWS \"Edit->Global Configuration...->API->Settings\" menu. Live Trading ports: \n",
      "TWS: 7496; IB Gateway: 4001. Simulated Trading ports for new installations \n",
      "of version 954.1 or newer:  TWS: 7497; IB Gateway: 4002\n",
      "ERROR:root:Traceback (most recent call last):\n",
      "  File \"/Users/zhang/PycharmProjects/stratege_engine/se2/infras/ib2.py\", line 204, in ping\n",
      "    time.sleep(10)\n",
      "  File \"/Users/zhang/PycharmProjects/stratege_engine/se2/domain/common.py\", line 212, in inner_wrapper\n",
      "    raise exception\n",
      "  File \"/Users/zhang/PycharmProjects/stratege_engine/se2/domain/common.py\", line 180, in inner_wrapper\n",
      "    res = func(*args, **kwargs)\n",
      "  File \"/Users/zhang/PycharmProjects/stratege_engine/se2/infras/ib2.py\", line 182, in try_connect\n",
      "    raise RuntimeError(\"重新连接失败\")\n",
      "RuntimeError: 重新连接失败\n",
      "\n",
      "WARNING:cassandra.pool:Error attempting to reconnect to 172.16.0.102:9042, scheduling retry in 600.0 seconds: [Errno None] Tried connecting to [('172.16.0.102', 9042)]. Last error: timed out\n",
      "WARNING:cassandra.pool:Error attempting to reconnect to 172.16.0.102:9042, scheduling retry in 600.0 seconds: [Errno None] Tried connecting to [('172.16.0.102', 9042)]. Last error: timed out\n"
     ]
    }
   ],
   "source": [
    "P = 10\n",
    "def calc(df: DataFrame):\n",
    "    if len(df) <= 0:\n",
    "        return None\n",
    "    ret = np.log(df['close'] / df['close'].shift(P))\n",
    "    next_ret = ret.shift(-P)\n",
    "    df = pd.DataFrame({\"ret\": ret, 'next_ret': next_ret}).dropna()\n",
    "    import random\n",
    "    # 下面的选择算法中，如果按照固定的间隔选取，或者随机选出，都不具有显著的负相关性\n",
    "    # 但是如果按块进行选取的话，则具有非常显著的负相关性\n",
    "    # 这似乎也佐证了这个序列有非常强的自相关性（这是因为使用了重叠的数据来计算）\n",
    "    # 那这个数据有什么意义呢， 说明在任意的时间块内，如果某个时间区间P内的涨幅相对于\n",
    "    # 这个时间块内其他的相同间隔的时间区间的涨幅教高，那么相邻的时间区间P'的跌幅相对于\n",
    "    # 其他时间区间的跌幅也较高\n",
    "    # 基于这个现象，是否可以动态计算最近的一个时间快内某个间隔的时间区间的回报分布，若\n",
    "    # 下一个时间区间的涨幅大于这个分布的75%分位数则做空，若小于这个分布的25%分位数\n",
    "    # 则做多。 实践发现这个策略也没法建立优势，因为序列的强相关性，所以一个时间块\n",
    "    # 内，计算相关性的两个变量并不是近似服从均值为0的正态分布，这就可能出现虽然它们\n",
    "    # 之间存在负相关性，但是未来回报和过去回报都是正的。所以由相关性转化成策略其实暗含了\n",
    "    # 回报服从均值为0的正态分布的假设。\n",
    "    # 从实验可以看出，任意两个相互独立的时间序列随机变量，如果他们各自的自相关性很强的话，这两个\n",
    "    # 序列会有很高的概率表现出很强的相关性，可能是正相关，也可能是负相关。由于使用重叠数据得到的回报\n",
    "    # 序列有很强的自相关性，所以使用重叠数据得到的两个时间序列之间会表现出强相关性（当重复很多次的时候，\n",
    "    # 可能一半表现为强正相关，一半表现为强负相关，刚好相互抵消），但是这两个随机变量本身是独立的。所以，\n",
    "    # 计算相关性的时候，要避免使用重叠数据。\n",
    "    # df = df.iloc[[ random.randint(0, 369) for i in range(37)]] # 随机选取\n",
    "    # df = df.iloc[random.randint(0, 9)::P] # 固定间隔选取\n",
    "    start_idx = random.randint(0, 330)\n",
    "    df = df.iloc[start_idx: start_idx+37: 1] # 块选取\n",
    "    r, p = scipy.stats.spearmanr(df.values[:, 0], df.values[:, 1])\n",
    "    df['st_ret'] = 0\n",
    "    df.loc[df['ret']>0, 'st_ret'] = -df['next_ret']\n",
    "    df.loc[df['ret']<0, 'st_ret'] = df['next_ret']\n",
    "\n",
    "    return pd.Series({'r': r, 'p': p, 'st_ret': df['st_ret'].sum()})\n",
    "\n",
    "res = MIN_BAR_DF.groupby(pd.Grouper(freq='1D', origin=pd.Timestamp(\"21:00:00\", tz='Asia/Shanghai'))).apply(calc).dropna()\n",
    "from prop import min_happen_prop\n",
    "print(\"显著正相关数：{}/{}\".format(len(res[(res['p']<0.05) & (res[\"r\"]>0)]),len(res)))\n",
    "print(\"显著负相关数：{}/{}\".format(len(res[(res['p']<0.05) & (res[\"r\"]<0)]), len(res)))\n",
    "print(min_happen_prop(len(res), len(res[(res['p']<0.05) & (res[\"r\"]<0)]), 0.05))\n",
    "print(\"策略日平均回报:{}\".format(res['st_ret'].mean()))"
   ],
   "metadata": {
    "collapsed": false,
    "pycharm": {
     "name": "#%%\n"
    }
   }
  },
  {
   "cell_type": "code",
   "execution_count": 354,
   "outputs": [
    {
     "data": {
      "text/plain": "                                  r             p    st_ret\nvisible_time                                               \n2021-01-11 21:00:00+08:00 -0.514167  1.132468e-03 -0.012206\n2021-01-12 21:00:00+08:00 -0.289474  8.224809e-02  0.067919\n2021-01-13 21:00:00+08:00 -0.114746  4.988772e-01 -0.030082\n2021-01-14 21:00:00+08:00 -0.435989  6.987593e-03 -0.197631\n2021-01-15 21:00:00+08:00 -0.767589  2.968115e-08 -0.037038\n...                             ...           ...       ...\n2021-06-02 21:00:00+08:00 -0.347718  3.496234e-02  0.007039\n2021-06-03 21:00:00+08:00  0.165264  3.283214e-01 -0.220078\n2021-06-04 21:00:00+08:00 -0.252638  1.314051e-01  0.060778\n2021-06-07 21:00:00+08:00 -0.239924  1.526311e-01 -0.171072\n2021-06-08 21:00:00+08:00 -0.597202  9.535523e-05  0.080465\n\n[103 rows x 3 columns]",
      "text/html": "<div>\n<style scoped>\n    .dataframe tbody tr th:only-of-type {\n        vertical-align: middle;\n    }\n\n    .dataframe tbody tr th {\n        vertical-align: top;\n    }\n\n    .dataframe thead th {\n        text-align: right;\n    }\n</style>\n<table border=\"1\" class=\"dataframe\">\n  <thead>\n    <tr style=\"text-align: right;\">\n      <th></th>\n      <th>r</th>\n      <th>p</th>\n      <th>st_ret</th>\n    </tr>\n    <tr>\n      <th>visible_time</th>\n      <th></th>\n      <th></th>\n      <th></th>\n    </tr>\n  </thead>\n  <tbody>\n    <tr>\n      <th>2021-01-11 21:00:00+08:00</th>\n      <td>-0.514167</td>\n      <td>1.132468e-03</td>\n      <td>-0.012206</td>\n    </tr>\n    <tr>\n      <th>2021-01-12 21:00:00+08:00</th>\n      <td>-0.289474</td>\n      <td>8.224809e-02</td>\n      <td>0.067919</td>\n    </tr>\n    <tr>\n      <th>2021-01-13 21:00:00+08:00</th>\n      <td>-0.114746</td>\n      <td>4.988772e-01</td>\n      <td>-0.030082</td>\n    </tr>\n    <tr>\n      <th>2021-01-14 21:00:00+08:00</th>\n      <td>-0.435989</td>\n      <td>6.987593e-03</td>\n      <td>-0.197631</td>\n    </tr>\n    <tr>\n      <th>2021-01-15 21:00:00+08:00</th>\n      <td>-0.767589</td>\n      <td>2.968115e-08</td>\n      <td>-0.037038</td>\n    </tr>\n    <tr>\n      <th>...</th>\n      <td>...</td>\n      <td>...</td>\n      <td>...</td>\n    </tr>\n    <tr>\n      <th>2021-06-02 21:00:00+08:00</th>\n      <td>-0.347718</td>\n      <td>3.496234e-02</td>\n      <td>0.007039</td>\n    </tr>\n    <tr>\n      <th>2021-06-03 21:00:00+08:00</th>\n      <td>0.165264</td>\n      <td>3.283214e-01</td>\n      <td>-0.220078</td>\n    </tr>\n    <tr>\n      <th>2021-06-04 21:00:00+08:00</th>\n      <td>-0.252638</td>\n      <td>1.314051e-01</td>\n      <td>0.060778</td>\n    </tr>\n    <tr>\n      <th>2021-06-07 21:00:00+08:00</th>\n      <td>-0.239924</td>\n      <td>1.526311e-01</td>\n      <td>-0.171072</td>\n    </tr>\n    <tr>\n      <th>2021-06-08 21:00:00+08:00</th>\n      <td>-0.597202</td>\n      <td>9.535523e-05</td>\n      <td>0.080465</td>\n    </tr>\n  </tbody>\n</table>\n<p>103 rows × 3 columns</p>\n</div>"
     },
     "execution_count": 354,
     "metadata": {},
     "output_type": "execute_result"
    }
   ],
   "source": [
    "res\n"
   ],
   "metadata": {
    "collapsed": false,
    "pycharm": {
     "name": "#%%\n"
    }
   }
  },
  {
   "cell_type": "code",
   "execution_count": 186,
   "outputs": [
    {
     "name": "stdout",
     "output_type": "stream",
     "text": [
      "SpearmanrResult(correlation=-0.1744725011679553, pvalue=0.000750106817792731)\n",
      ">>>>0\n",
      "SpearmanrResult(correlation=-0.23968705547652916, pvalue=0.15304923956427657)\n",
      ">>>>1\n",
      "SpearmanrResult(correlation=-0.25177809388335703, pvalue=0.13276746228807448)\n",
      ">>>>2\n",
      "SpearmanrResult(correlation=-0.23091512565196773, pvalue=0.16911316424178716)\n",
      ">>>>3\n",
      "SpearmanrResult(correlation=-0.19701280227596016, pvalue=0.24250490465168362)\n",
      ">>>>4\n",
      "SpearmanrResult(correlation=-0.14058795637743005, pvalue=0.4065696450288516)\n",
      ">>>>5\n",
      "SpearmanrResult(correlation=0.1853959222380275, pvalue=0.2719552497667867)\n",
      ">>>>6\n",
      "SpearmanrResult(correlation=0.0910384068278805, pvalue=0.592046090895457)\n",
      ">>>>7\n",
      "SpearmanrResult(correlation=-0.08036984352773825, pvalue=0.636314781295953)\n",
      ">>>>8\n",
      "SpearmanrResult(correlation=-0.32076813655761016, pvalue=0.052906559011768155)\n",
      ">>>>9\n",
      "SpearmanrResult(correlation=-0.3942626837363679, pvalue=0.015752098336190058)\n"
     ]
    }
   ],
   "source": [
    "df = MIN_BAR_DF.loc['2021-02-01 21:00:00':'2021-02-02 21:00:00']\n",
    "ret = np.log(df['close'] / df['close'].shift(P))\n",
    "next_ret = ret.shift(-P)\n",
    "df = pd.DataFrame({\"ret\": ret, 'next_ret': next_ret}).dropna()\n",
    "df.head()\n",
    "print(scipy.stats.spearmanr(df.values[:, 0], df.values[:, 1]))\n",
    "for i in range(P):\n",
    "    print(\">>>>\"+str(i))\n",
    "    sdf = df.iloc[i::P]\n",
    "    print(scipy.stats.spearmanr(sdf.values[:, 0], sdf.values[:, 1]))\n"
   ],
   "metadata": {
    "collapsed": false,
    "pycharm": {
     "name": "#%%\n"
    }
   }
  },
  {
   "cell_type": "code",
   "execution_count": 194,
   "outputs": [
    {
     "data": {
      "text/plain": "0.00888868667496956"
     },
     "execution_count": 194,
     "metadata": {},
     "output_type": "execute_result"
    }
   ],
   "source": [
    "df['st_ret'] = 0\n",
    "df.loc[df['ret']>0, 'st_ret'] = -df['next_ret']\n",
    "df.loc[df['ret']<0, 'st_ret'] = df['next_ret']\n",
    "np.exp(df.iloc[7::P]['st_ret'].sum()) - 1\n"
   ],
   "metadata": {
    "collapsed": false,
    "pycharm": {
     "name": "#%%\n"
    }
   }
  },
  {
   "cell_type": "code",
   "execution_count": 301,
   "outputs": [
    {
     "data": {
      "text/plain": "                           count      mean       std       min       25%  \\\nvisible_time                                                               \n2021-05-10 21:00:00+08:00   19.0 -0.002693  0.004148 -0.010917 -0.005203   \n2021-05-11 21:00:00+08:00   16.0  0.005873  0.006680 -0.007439  0.004126   \n2021-05-12 21:00:00+08:00   19.0 -0.002538  0.006136 -0.013135 -0.006720   \n2021-05-13 21:00:00+08:00   16.0 -0.003027  0.009012 -0.017482 -0.009643   \n2021-05-14 21:00:00+08:00   14.0 -0.003216  0.004797 -0.011660 -0.006436   \n2021-05-17 21:00:00+08:00   13.0 -0.003688  0.003228 -0.009072 -0.006075   \n2021-05-18 21:00:00+08:00   18.0 -0.002714  0.006520 -0.016009 -0.007028   \n2021-05-19 21:00:00+08:00    3.0  0.000996  0.004016 -0.003529 -0.000574   \n2021-05-20 21:00:00+08:00   16.0  0.000810  0.008619 -0.011555 -0.006795   \n2021-05-21 21:00:00+08:00   21.0  0.000123  0.008167 -0.012824 -0.007067   \n2021-05-24 21:00:00+08:00   20.0 -0.000839  0.008674 -0.022364 -0.005229   \n2021-05-25 21:00:00+08:00   18.0 -0.000991  0.007662 -0.010125 -0.005545   \n2021-05-26 21:00:00+08:00   11.0  0.002332  0.004120 -0.001464 -0.000551   \n2021-05-27 21:00:00+08:00   23.0 -0.004592  0.010759 -0.023523 -0.010501   \n2021-05-28 21:00:00+08:00    9.0  0.003229  0.008522 -0.010279 -0.003505   \n2021-06-01 21:00:00+08:00   18.0 -0.002215  0.004618 -0.011723 -0.004814   \n2021-06-02 21:00:00+08:00   20.0  0.006599  0.013058 -0.009582 -0.004810   \n2021-06-03 21:00:00+08:00   17.0  0.003139  0.006382 -0.008634 -0.001220   \n2021-06-04 21:00:00+08:00   13.0  0.008067  0.015138 -0.007678 -0.002900   \n2021-06-07 21:00:00+08:00   17.0 -0.004712  0.006122 -0.014915 -0.007808   \n2021-06-08 21:00:00+08:00   22.0  0.003003  0.008236 -0.010400 -0.000817   \n\n                                50%           75%       max  \nvisible_time                                                 \n2021-05-10 21:00:00+08:00 -0.002768 -5.545861e-04  0.005580  \n2021-05-11 21:00:00+08:00  0.007707  9.882240e-03  0.016925  \n2021-05-12 21:00:00+08:00 -0.001822  2.134779e-03  0.007910  \n2021-05-13 21:00:00+08:00 -0.004160  3.980449e-03  0.010971  \n2021-05-14 21:00:00+08:00 -0.004325 -2.841404e-07  0.006771  \n2021-05-17 21:00:00+08:00 -0.003674 -6.099421e-04  0.001834  \n2021-05-18 21:00:00+08:00 -0.001991  1.128191e-03  0.010854  \n2021-05-19 21:00:00+08:00  0.002381  3.258427e-03  0.004136  \n2021-05-20 21:00:00+08:00  0.000276  8.669367e-03  0.012128  \n2021-05-21 21:00:00+08:00 -0.001891  7.579383e-03  0.012116  \n2021-05-24 21:00:00+08:00 -0.000008  5.402655e-03  0.013163  \n2021-05-25 21:00:00+08:00 -0.003127  1.585782e-03  0.014079  \n2021-05-26 21:00:00+08:00  0.001110  4.439664e-03  0.010409  \n2021-05-27 21:00:00+08:00 -0.004907 -6.776950e-04  0.023435  \n2021-05-28 21:00:00+08:00  0.004966  7.833347e-03  0.015112  \n2021-06-01 21:00:00+08:00 -0.001347  1.865850e-03  0.004086  \n2021-06-02 21:00:00+08:00  0.005050  1.412828e-02  0.042736  \n2021-06-03 21:00:00+08:00  0.002160  8.658063e-03  0.014706  \n2021-06-04 21:00:00+08:00  0.004167  7.623925e-03  0.038761  \n2021-06-07 21:00:00+08:00 -0.004507  1.196530e-03  0.004065  \n2021-06-08 21:00:00+08:00  0.001866  6.168825e-03  0.020932  ",
      "text/html": "<div>\n<style scoped>\n    .dataframe tbody tr th:only-of-type {\n        vertical-align: middle;\n    }\n\n    .dataframe tbody tr th {\n        vertical-align: top;\n    }\n\n    .dataframe thead th {\n        text-align: right;\n    }\n</style>\n<table border=\"1\" class=\"dataframe\">\n  <thead>\n    <tr style=\"text-align: right;\">\n      <th></th>\n      <th>count</th>\n      <th>mean</th>\n      <th>std</th>\n      <th>min</th>\n      <th>25%</th>\n      <th>50%</th>\n      <th>75%</th>\n      <th>max</th>\n    </tr>\n    <tr>\n      <th>visible_time</th>\n      <th></th>\n      <th></th>\n      <th></th>\n      <th></th>\n      <th></th>\n      <th></th>\n      <th></th>\n      <th></th>\n    </tr>\n  </thead>\n  <tbody>\n    <tr>\n      <th>2021-05-10 21:00:00+08:00</th>\n      <td>19.0</td>\n      <td>-0.002693</td>\n      <td>0.004148</td>\n      <td>-0.010917</td>\n      <td>-0.005203</td>\n      <td>-0.002768</td>\n      <td>-5.545861e-04</td>\n      <td>0.005580</td>\n    </tr>\n    <tr>\n      <th>2021-05-11 21:00:00+08:00</th>\n      <td>16.0</td>\n      <td>0.005873</td>\n      <td>0.006680</td>\n      <td>-0.007439</td>\n      <td>0.004126</td>\n      <td>0.007707</td>\n      <td>9.882240e-03</td>\n      <td>0.016925</td>\n    </tr>\n    <tr>\n      <th>2021-05-12 21:00:00+08:00</th>\n      <td>19.0</td>\n      <td>-0.002538</td>\n      <td>0.006136</td>\n      <td>-0.013135</td>\n      <td>-0.006720</td>\n      <td>-0.001822</td>\n      <td>2.134779e-03</td>\n      <td>0.007910</td>\n    </tr>\n    <tr>\n      <th>2021-05-13 21:00:00+08:00</th>\n      <td>16.0</td>\n      <td>-0.003027</td>\n      <td>0.009012</td>\n      <td>-0.017482</td>\n      <td>-0.009643</td>\n      <td>-0.004160</td>\n      <td>3.980449e-03</td>\n      <td>0.010971</td>\n    </tr>\n    <tr>\n      <th>2021-05-14 21:00:00+08:00</th>\n      <td>14.0</td>\n      <td>-0.003216</td>\n      <td>0.004797</td>\n      <td>-0.011660</td>\n      <td>-0.006436</td>\n      <td>-0.004325</td>\n      <td>-2.841404e-07</td>\n      <td>0.006771</td>\n    </tr>\n    <tr>\n      <th>2021-05-17 21:00:00+08:00</th>\n      <td>13.0</td>\n      <td>-0.003688</td>\n      <td>0.003228</td>\n      <td>-0.009072</td>\n      <td>-0.006075</td>\n      <td>-0.003674</td>\n      <td>-6.099421e-04</td>\n      <td>0.001834</td>\n    </tr>\n    <tr>\n      <th>2021-05-18 21:00:00+08:00</th>\n      <td>18.0</td>\n      <td>-0.002714</td>\n      <td>0.006520</td>\n      <td>-0.016009</td>\n      <td>-0.007028</td>\n      <td>-0.001991</td>\n      <td>1.128191e-03</td>\n      <td>0.010854</td>\n    </tr>\n    <tr>\n      <th>2021-05-19 21:00:00+08:00</th>\n      <td>3.0</td>\n      <td>0.000996</td>\n      <td>0.004016</td>\n      <td>-0.003529</td>\n      <td>-0.000574</td>\n      <td>0.002381</td>\n      <td>3.258427e-03</td>\n      <td>0.004136</td>\n    </tr>\n    <tr>\n      <th>2021-05-20 21:00:00+08:00</th>\n      <td>16.0</td>\n      <td>0.000810</td>\n      <td>0.008619</td>\n      <td>-0.011555</td>\n      <td>-0.006795</td>\n      <td>0.000276</td>\n      <td>8.669367e-03</td>\n      <td>0.012128</td>\n    </tr>\n    <tr>\n      <th>2021-05-21 21:00:00+08:00</th>\n      <td>21.0</td>\n      <td>0.000123</td>\n      <td>0.008167</td>\n      <td>-0.012824</td>\n      <td>-0.007067</td>\n      <td>-0.001891</td>\n      <td>7.579383e-03</td>\n      <td>0.012116</td>\n    </tr>\n    <tr>\n      <th>2021-05-24 21:00:00+08:00</th>\n      <td>20.0</td>\n      <td>-0.000839</td>\n      <td>0.008674</td>\n      <td>-0.022364</td>\n      <td>-0.005229</td>\n      <td>-0.000008</td>\n      <td>5.402655e-03</td>\n      <td>0.013163</td>\n    </tr>\n    <tr>\n      <th>2021-05-25 21:00:00+08:00</th>\n      <td>18.0</td>\n      <td>-0.000991</td>\n      <td>0.007662</td>\n      <td>-0.010125</td>\n      <td>-0.005545</td>\n      <td>-0.003127</td>\n      <td>1.585782e-03</td>\n      <td>0.014079</td>\n    </tr>\n    <tr>\n      <th>2021-05-26 21:00:00+08:00</th>\n      <td>11.0</td>\n      <td>0.002332</td>\n      <td>0.004120</td>\n      <td>-0.001464</td>\n      <td>-0.000551</td>\n      <td>0.001110</td>\n      <td>4.439664e-03</td>\n      <td>0.010409</td>\n    </tr>\n    <tr>\n      <th>2021-05-27 21:00:00+08:00</th>\n      <td>23.0</td>\n      <td>-0.004592</td>\n      <td>0.010759</td>\n      <td>-0.023523</td>\n      <td>-0.010501</td>\n      <td>-0.004907</td>\n      <td>-6.776950e-04</td>\n      <td>0.023435</td>\n    </tr>\n    <tr>\n      <th>2021-05-28 21:00:00+08:00</th>\n      <td>9.0</td>\n      <td>0.003229</td>\n      <td>0.008522</td>\n      <td>-0.010279</td>\n      <td>-0.003505</td>\n      <td>0.004966</td>\n      <td>7.833347e-03</td>\n      <td>0.015112</td>\n    </tr>\n    <tr>\n      <th>2021-06-01 21:00:00+08:00</th>\n      <td>18.0</td>\n      <td>-0.002215</td>\n      <td>0.004618</td>\n      <td>-0.011723</td>\n      <td>-0.004814</td>\n      <td>-0.001347</td>\n      <td>1.865850e-03</td>\n      <td>0.004086</td>\n    </tr>\n    <tr>\n      <th>2021-06-02 21:00:00+08:00</th>\n      <td>20.0</td>\n      <td>0.006599</td>\n      <td>0.013058</td>\n      <td>-0.009582</td>\n      <td>-0.004810</td>\n      <td>0.005050</td>\n      <td>1.412828e-02</td>\n      <td>0.042736</td>\n    </tr>\n    <tr>\n      <th>2021-06-03 21:00:00+08:00</th>\n      <td>17.0</td>\n      <td>0.003139</td>\n      <td>0.006382</td>\n      <td>-0.008634</td>\n      <td>-0.001220</td>\n      <td>0.002160</td>\n      <td>8.658063e-03</td>\n      <td>0.014706</td>\n    </tr>\n    <tr>\n      <th>2021-06-04 21:00:00+08:00</th>\n      <td>13.0</td>\n      <td>0.008067</td>\n      <td>0.015138</td>\n      <td>-0.007678</td>\n      <td>-0.002900</td>\n      <td>0.004167</td>\n      <td>7.623925e-03</td>\n      <td>0.038761</td>\n    </tr>\n    <tr>\n      <th>2021-06-07 21:00:00+08:00</th>\n      <td>17.0</td>\n      <td>-0.004712</td>\n      <td>0.006122</td>\n      <td>-0.014915</td>\n      <td>-0.007808</td>\n      <td>-0.004507</td>\n      <td>1.196530e-03</td>\n      <td>0.004065</td>\n    </tr>\n    <tr>\n      <th>2021-06-08 21:00:00+08:00</th>\n      <td>22.0</td>\n      <td>0.003003</td>\n      <td>0.008236</td>\n      <td>-0.010400</td>\n      <td>-0.000817</td>\n      <td>0.001866</td>\n      <td>6.168825e-03</td>\n      <td>0.020932</td>\n    </tr>\n  </tbody>\n</table>\n</div>"
     },
     "execution_count": 301,
     "metadata": {},
     "output_type": "execute_result"
    }
   ],
   "source": [
    "# 下面根据上面发现的局部负相关性来构建策略,\n",
    "P = 10\n",
    "B = 70\n",
    "quantile_up = 99\n",
    "quantile_down = 1\n",
    "def calc_quantile(block_ser: Series):\n",
    "    \"\"\"\n",
    "    计算最新的回报在块内所有回报的分为数\n",
    "    :param block_df:\n",
    "    :return:\n",
    "    \"\"\"\n",
    "    block_rets: Series = np.log(block_ser / block_ser.shift(P)).dropna()\n",
    "    sample: Series = block_rets.iloc[:-1]\n",
    "    q = scipy.stats.percentileofscore(sample, block_rets.iloc[-1])\n",
    "    return q\n",
    "\n",
    "def calc_daily_stats(daily_df: Series):\n",
    "    if len(daily_df) <= 0:\n",
    "        return None\n",
    "    quantiles = daily_df['close'].rolling(window=B).apply(calc_quantile)\n",
    "    next_ret = np.log(daily_df['close'].shift(-P) / daily_df['close'])\n",
    "    df = pd.DataFrame({'quantile': quantiles, 'next_ret': next_ret})\n",
    "    df = df.dropna()\n",
    "    df['st_ret'] = 0\n",
    "    df.loc[df['quantile']>quantile_up, 'st_ret'] = -df['next_ret']\n",
    "    df.loc[df['quantile']<quantile_down, 'st_ret'] = df['next_ret']\n",
    "    return df['st_ret'][df['st_ret']!=0].describe()\n",
    "\n",
    "res = MIN_BAR_DF.loc[\"2021-05-09 21:00:00\":].groupby(pd.Grouper(freq='1D',\n",
    "                                    origin=pd.Timestamp('21:00:00', tz='Asia/Shanghai'))).apply(calc_daily_stats).dropna()\n",
    "res"
   ],
   "metadata": {
    "collapsed": false,
    "pycharm": {
     "name": "#%%\n"
    }
   }
  },
  {
   "cell_type": "code",
   "execution_count": 302,
   "outputs": [
    {
     "data": {
      "text/plain": "0.000140256872414905"
     },
     "execution_count": 302,
     "metadata": {},
     "output_type": "execute_result"
    }
   ],
   "source": [],
   "metadata": {
    "collapsed": false,
    "pycharm": {
     "name": "#%%\n"
    }
   }
  },
  {
   "cell_type": "code",
   "execution_count": 296,
   "outputs": [],
   "source": [],
   "metadata": {
    "collapsed": false,
    "pycharm": {
     "name": "#%%\n"
    }
   }
  },
  {
   "cell_type": "code",
   "execution_count": null,
   "outputs": [],
   "source": [],
   "metadata": {
    "collapsed": false,
    "pycharm": {
     "name": "#%%\n"
    }
   }
  }
 ],
 "metadata": {
  "kernelspec": {
   "display_name": "Python 3",
   "language": "python",
   "name": "python3"
  },
  "language_info": {
   "codemirror_mode": {
    "name": "ipython",
    "version": 2
   },
   "file_extension": ".py",
   "mimetype": "text/x-python",
   "name": "python",
   "nbconvert_exporter": "python",
   "pygments_lexer": "ipython2",
   "version": "2.7.6"
  }
 },
 "nbformat": 4,
 "nbformat_minor": 0
}
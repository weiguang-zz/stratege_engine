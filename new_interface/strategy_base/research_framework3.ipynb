{
 "cells": [
  {
   "cell_type": "markdown",
   "metadata": {
    "collapsed": true,
    "pycharm": {
     "name": "#%% md\n"
    }
   },
   "source": [
    "尝试研究下网格交易。\n",
    "\n",
    "根据历史数据估计一段时间内的涨跌幅，这个涨跌幅的随机变量的95%分位数作为网格的最大目标价。\n",
    "\n",
    "网格算法的实现是：\n",
    "* 以入场价买入50%仓位，在入场价上下各设置5个网格，上下网格等间距\n",
    "* 从上到下，每个网格的目标仓位为0%， 10%， 20%， 30%，40%， 50%， 60%， 70%， 80%， 90%， 100%，\n",
    "  到达目标网格后，调整仓位到相应的仓位\n",
    "* 假设对涨跌幅分布的预测是靠谱的情况下，则有很小的概率股价会游离到网格之外，即高于最高网格价p_h或者低于最低网格价p_l。\n",
    "  这种情况下，就对网格进行调整，分别以p_h或者p_l作为新网格的入场价格。 由于每一次对网格的调整涉及到重新\n",
    "  预测未来的涨跌幅的分布，这需要相应频率的历史数据的支持，在交易时间段，这个数据是不好获取的（假设预期的\n",
    "  网格周期个周，那么做涨跌幅分布的估计就需要周的数据， 如果这个周不限制是严格的周一到周五的区间时，只要在任意\n",
    "  交易日的收盘都是可以获取到最新的周回报数据的，但是这个数据在交易时间段是获取不到的，或者说即使能够获取到，\n",
    "  这个数据也是有延迟的。）\n",
    "* 网格的调整发生在开盘的时刻（因为网格的调整依赖对一定周期内的涨跌幅的分布的估计，而这个周期通常都是日频的倍数，\n",
    "  这里的一定周期也称作网格周期，表示网格大概率能够持续的时间，网格持续的时间越久，就能够有更多的机会获取回报，\n",
    "  网格的持续时间更网格大小成正比，网格越大，持续时间越久，但是网格越大，价格穿过网格的次数就越少，小的波动就捕捉不到。\n",
    "  ），\n",
    "\n",
    "\n",
    "关于网格大小\n",
    "\n",
    "网格大小由网格的个数与间隔决定，网格个数越多，则网格越大，网格持续时间越长，但是每个网格获得的收益降低。关于\n",
    "个数的设置没有好的研究办法，先不做研究。 当网格个数固定的情况下，网格间隔越大，则网格的持续时间更长，每次穿过\n",
    "网格的收益也越高，但是相同时间跨度内穿过网格的次数更少了，所以间隔是在持续时间与穿过次数之间的权衡（之所以\n",
    "希望网格的持续时间越长越好，是因为网格切换是要付出成本的，向下的网格切换是在更低的价格卖出一定的仓位，要承担\n",
    "一定的损失， 向上的网格切换会让整体的持仓成本变高，虽然本次网格能够带来一点利润，但持仓成本变高不是什么好事）。\n",
    "所以我们的目标是保证一定交易频率（交易次数/2 乘以单操作利润 是总利润）的基础上让网格的持续时间足够长。\n",
    "或者说保证持续时间的基础上让交易利润足够高，由于股价是不可预测的，我们只能基于统计数据在一定置信度上保证\n",
    "持续时间（比如以95%的自信度保证网格的持续时间为一周）。确定了持续时间后，通常网格的最高价格和最低价格就\n",
    "确定了。 剩下的就是确定网格大小了。 记得波动率交易这本书里面有一种衡量波动率的方法，就是价格变动固定单位\n",
    "的所需要的时间，这个时间的统计值可以用于衡量波动率，如果t较小，则波动率较高，如果t较高，则波动率较低。\n",
    "假设我们通过统计方法找到了价格变动值跟t的期望值之间的一个函数关系，就能够将总利润转化为网格大小的一个函数，\n",
    "如果这个函数是一个凸函数的话，则很容易找到最优的网格大小。\n",
    "\n",
    "这个方法里面，最难的在于找到网格大小与变动该网格大小所需要的时间的期望值之间的关系，并对这个关系建立模型"
   ]
  },
  {
   "cell_type": "code",
   "execution_count": 1,
   "outputs": [
    {
     "name": "stderr",
     "output_type": "stream",
     "text": [
      "WARNING:cassandra.cluster:Cluster.__init__ called with contact_points specified, but no load_balancing_policy. In the next major version, this will raise an error; please specify a load-balancing policy. (contact_points = ['172.16.0.102'], lbp = None)\n",
      "ERROR:ibapi.wrapper:ERROR -1 2104 市场数据农场连接正常:usfarm.nj\n",
      "ERROR:root:ib client error, req_id:-1, errorCode:2104, errorString:市场数据农场连接正常:usfarm.nj\n",
      "ERROR:ibapi.wrapper:ERROR -1 2104 市场数据农场连接正常:hfarm\n",
      "ERROR:root:ib client error, req_id:-1, errorCode:2104, errorString:市场数据农场连接正常:hfarm\n",
      "ERROR:ibapi.wrapper:ERROR -1 2104 市场数据农场连接正常:cashfarm\n",
      "ERROR:root:ib client error, req_id:-1, errorCode:2104, errorString:市场数据农场连接正常:cashfarm\n",
      "ERROR:ibapi.wrapper:ERROR -1 2104 市场数据农场连接正常:usfarm\n",
      "ERROR:root:ib client error, req_id:-1, errorCode:2104, errorString:市场数据农场连接正常:usfarm\n",
      "ERROR:ibapi.wrapper:ERROR -1 2106 历史市场数据农场连接正常:hkhmds\n",
      "ERROR:root:ib client error, req_id:-1, errorCode:2106, errorString:历史市场数据农场连接正常:hkhmds\n",
      "ERROR:ibapi.wrapper:ERROR -1 2106 历史市场数据农场连接正常:ushmds\n",
      "ERROR:root:ib client error, req_id:-1, errorCode:2106, errorString:历史市场数据农场连接正常:ushmds\n",
      "ERROR:ibapi.wrapper:ERROR -1 2158 Sec-def数据农场连接正常:secdefhk\n",
      "ERROR:root:ib client error, req_id:-1, errorCode:2158, errorString:Sec-def数据农场连接正常:secdefhk\n"
     ]
    }
   ],
   "source": [
    "from se2.domain.time_series import *\n",
    "from se2.domain.engine import *\n",
    "from se2.domain.account import *\n",
    "from se2.domain.common import *\n",
    "import pandas as pd\n",
    "import numpy as np\n",
    "import scipy.stats\n"
   ],
   "metadata": {
    "collapsed": false,
    "pycharm": {
     "name": "#%%\n"
    }
   }
  },
  {
   "cell_type": "code",
   "execution_count": 75,
   "outputs": [
    {
     "data": {
      "text/plain": "                                         start_time   open   high    low  \\\nvisible_time                                                               \n2021-01-11 22:31:00+08:00 2021-01-11 22:30:00+08:00  24.97  24.99  24.85   \n2021-01-11 22:32:00+08:00 2021-01-11 22:31:00+08:00  24.85  25.14  24.81   \n2021-01-11 22:33:00+08:00 2021-01-11 22:32:00+08:00  25.09  25.17  24.85   \n2021-01-11 22:34:00+08:00 2021-01-11 22:33:00+08:00  24.97  25.00  24.80   \n2021-01-11 22:35:00+08:00 2021-01-11 22:34:00+08:00  24.83  24.96  24.77   \n\n                           close  volume  \nvisible_time                              \n2021-01-11 22:31:00+08:00  24.86    2193  \n2021-01-11 22:32:00+08:00  25.06     484  \n2021-01-11 22:33:00+08:00  24.91     539  \n2021-01-11 22:34:00+08:00  24.85     691  \n2021-01-11 22:35:00+08:00  24.79     359  ",
      "text/html": "<div>\n<style scoped>\n    .dataframe tbody tr th:only-of-type {\n        vertical-align: middle;\n    }\n\n    .dataframe tbody tr th {\n        vertical-align: top;\n    }\n\n    .dataframe thead th {\n        text-align: right;\n    }\n</style>\n<table border=\"1\" class=\"dataframe\">\n  <thead>\n    <tr style=\"text-align: right;\">\n      <th></th>\n      <th>start_time</th>\n      <th>open</th>\n      <th>high</th>\n      <th>low</th>\n      <th>close</th>\n      <th>volume</th>\n    </tr>\n    <tr>\n      <th>visible_time</th>\n      <th></th>\n      <th></th>\n      <th></th>\n      <th></th>\n      <th></th>\n      <th></th>\n    </tr>\n  </thead>\n  <tbody>\n    <tr>\n      <th>2021-01-11 22:31:00+08:00</th>\n      <td>2021-01-11 22:30:00+08:00</td>\n      <td>24.97</td>\n      <td>24.99</td>\n      <td>24.85</td>\n      <td>24.86</td>\n      <td>2193</td>\n    </tr>\n    <tr>\n      <th>2021-01-11 22:32:00+08:00</th>\n      <td>2021-01-11 22:31:00+08:00</td>\n      <td>24.85</td>\n      <td>25.14</td>\n      <td>24.81</td>\n      <td>25.06</td>\n      <td>484</td>\n    </tr>\n    <tr>\n      <th>2021-01-11 22:33:00+08:00</th>\n      <td>2021-01-11 22:32:00+08:00</td>\n      <td>25.09</td>\n      <td>25.17</td>\n      <td>24.85</td>\n      <td>24.91</td>\n      <td>539</td>\n    </tr>\n    <tr>\n      <th>2021-01-11 22:34:00+08:00</th>\n      <td>2021-01-11 22:33:00+08:00</td>\n      <td>24.97</td>\n      <td>25.00</td>\n      <td>24.80</td>\n      <td>24.85</td>\n      <td>691</td>\n    </tr>\n    <tr>\n      <th>2021-01-11 22:35:00+08:00</th>\n      <td>2021-01-11 22:34:00+08:00</td>\n      <td>24.83</td>\n      <td>24.96</td>\n      <td>24.77</td>\n      <td>24.79</td>\n      <td>359</td>\n    </tr>\n  </tbody>\n</table>\n</div>"
     },
     "execution_count": 75,
     "metadata": {},
     "output_type": "execute_result"
    }
   ],
   "source": [
    "code = 'SPCE_STK_USD_SMART'\n",
    "start = pd.Timestamp('2021-01-09 21:00:00', tz='Asia/Shanghai')\n",
    "end = pd.Timestamp('2021-06-09 21:00:00', tz='Asia/Shanghai')\n",
    "command = HistoryDataQueryCommand(start, end, [code])\n",
    "ts_repo: TimeSeriesRepo = BeanContainer.getBean(TimeSeriesRepo)\n",
    "ts: TimeSeries = ts_repo.find_one(\"ibMinBar\")\n",
    "MIN_BAR_DF: DataFrame = ts.history_data(command, from_local=True)\n",
    "MIN_BAR_DF = MIN_BAR_DF.droplevel(level=1)\n",
    "MIN_BAR_DF.head()"
   ],
   "metadata": {
    "collapsed": false,
    "pycharm": {
     "name": "#%%\n"
    }
   }
  },
  {
   "cell_type": "code",
   "execution_count": 12,
   "outputs": [
    {
     "name": "stdout",
     "output_type": "stream",
     "text": [
      "done\n"
     ]
    }
   ],
   "source": [
    "# 找到价格变动幅度与变动所需要的时间的关系\n",
    "Y = 0.01\n",
    "times = []\n",
    "t = 0\n",
    "start_price = None\n",
    "high = None\n",
    "low = None\n",
    "for _,min_bar in MIN_BAR_DF.iterrows():\n",
    "    if not start_price:\n",
    "        start_price = min_bar['close']\n",
    "        continue\n",
    "    t += 1\n",
    "    if not high:\n",
    "        high = min_bar['high']\n",
    "    else:\n",
    "        high = max(min_bar['high'], high)\n",
    "\n",
    "    if not low:\n",
    "        low = min_bar['low']\n",
    "    else:\n",
    "        low = min(min_bar['low'], low)\n",
    "\n",
    "    if np.log(high/start_price) > Y or abs(np.log(low/start_price)) > Y:\n",
    "        times.append(t)\n",
    "        t = 0\n",
    "        start_price = min_bar['close']\n",
    "        high = None\n",
    "        low = None\n",
    "print('done')"
   ],
   "metadata": {
    "collapsed": false,
    "pycharm": {
     "name": "#%%\n"
    }
   }
  },
  {
   "cell_type": "code",
   "execution_count": null,
   "outputs": [],
   "source": [
    "# 从上面可以看出， 波动率的变化是非常频繁的，这主要是收到开盘和收盘波动率较高以及开盘跳空的影响导致的\n",
    "# 且由于收盘之后没有价格数据，所以其波动率是无法观测到的，也就无法观测到退出时间（变化特定幅度所需要的时间）"
   ],
   "metadata": {
    "collapsed": false,
    "pycharm": {
     "name": "#%%\n"
    }
   }
  },
  {
   "cell_type": "code",
   "execution_count": null,
   "outputs": [],
   "source": [
    "# 我们的目标是估计特定时间周期内的交易次数，这相当于是波动率领域里面的整合波动率，不需要考察波动率的微观结构\n",
    "# 由于日间收益的样本数很少，所以估计日间收益带来的交易次数是有很多的估计误差的，所以一个好的方法是使用\n",
    "# 较长的一段历史时间区间内的日间收益计算出来日间收益的交易次数的平均值，而不是使用最近的最近的几个日间\n",
    "# 收益的样本值来进行预测。\n",
    "#\n"
   ],
   "metadata": {
    "collapsed": false,
    "pycharm": {
     "name": "#%%\n"
    }
   }
  },
  {
   "cell_type": "code",
   "execution_count": 85,
   "outputs": [
    {
     "data": {
      "text/plain": "visible_time\n2021-01-11 21:00:00+08:00    0.0\n2021-01-12 21:00:00+08:00    1.0\n2021-01-13 21:00:00+08:00    1.0\n2021-01-14 21:00:00+08:00    5.0\n2021-01-15 21:00:00+08:00    1.0\n                            ... \n2021-06-02 21:00:00+08:00    4.0\n2021-06-03 21:00:00+08:00    4.0\n2021-06-04 21:00:00+08:00    0.0\n2021-06-07 21:00:00+08:00    2.0\n2021-06-08 21:00:00+08:00    3.0\nLength: 103, dtype: float64"
     },
     "execution_count": 85,
     "metadata": {},
     "output_type": "execute_result"
    }
   ],
   "source": [
    "P = 5\n",
    "Y = 0.04\n",
    "\n",
    "def calc_intra_daily_trade_count(daily_df: DataFrame):\n",
    "    if len(daily_df) <= 0:\n",
    "        return None\n",
    "    start_price = None\n",
    "    high = None\n",
    "    low = None\n",
    "    c = 0\n",
    "    for _,min_bar in daily_df.iterrows():\n",
    "        if not start_price:\n",
    "            start_price = min_bar['open']\n",
    "        if not high:\n",
    "            high = min_bar['high']\n",
    "        else:\n",
    "            high = max(min_bar['high'], high)\n",
    "\n",
    "        if not low:\n",
    "            low = min_bar['low']\n",
    "        else:\n",
    "            low = min(min_bar['low'], low)\n",
    "        if np.log(high/start_price) > Y or abs(np.log(low/start_price)) > Y:\n",
    "            c += 1\n",
    "            start_price = min_bar['close']\n",
    "            high = None\n",
    "            low = None\n",
    "    return c\n",
    "\n",
    "INTRA_DAY_TRADE_COUNT = MIN_BAR_DF.groupby(pd.Grouper(freq='1D',\n",
    "                              origin=pd.Timestamp(\"21:00:00\", tz='Asia/Shanghai'))).apply(calc_intra_daily_trade_count).dropna()\n",
    "INTRA_DAY_TRADE_COUNT\n"
   ],
   "metadata": {
    "collapsed": false,
    "pycharm": {
     "name": "#%%\n"
    }
   }
  },
  {
   "cell_type": "code",
   "execution_count": 86,
   "outputs": [
    {
     "data": {
      "text/plain": "visible_time\n2021-01-12 22:31:00+08:00    0\n2021-01-13 22:31:00+08:00    0\n2021-01-14 22:31:00+08:00    3\n2021-01-15 22:31:00+08:00    0\n2021-01-19 22:31:00+08:00    1\n                            ..\n2021-06-02 21:31:00+08:00    0\n2021-06-03 21:31:00+08:00    0\n2021-06-04 21:31:00+08:00    0\n2021-06-07 21:31:00+08:00    0\n2021-06-08 21:31:00+08:00    0\nLength: 102, dtype: int64"
     },
     "execution_count": 86,
     "metadata": {},
     "output_type": "execute_result"
    }
   ],
   "source": [
    "# 下面计算日间收益带来的交易次数，交易次数为日间收益的绝对值跟阀值的比值\n",
    "inter_day_rets = np.log(MIN_BAR_DF['open']/ MIN_BAR_DF['close'].shift(1)).\\\n",
    "                    groupby(pd.Grouper(freq='1D',\n",
    "                       origin=pd.Timestamp(\"21:00:00\", tz='Asia/Shanghai'))).head(1).dropna()\n",
    "INTER_DAY_TRADE_COUNT = (inter_day_rets.abs()/Y).astype(int)\n",
    "INTER_DAY_TRADE_COUNT\n"
   ],
   "metadata": {
    "collapsed": false,
    "pycharm": {
     "name": "#%%\n"
    }
   }
  },
  {
   "cell_type": "code",
   "execution_count": 92,
   "outputs": [],
   "source": [
    "# 统计交易次数跟网格间隔之间的函数关系\n",
    "# 假设日间交易次数跟日内交易次数是成正比的，且这个比例系数是是关于间隔的函数\n",
    "\n",
    "def get_intra_day_trade_counts(df: DataFrame, X):\n",
    "    def calc_intra_daily_trade_count(daily_df: DataFrame):\n",
    "        if len(daily_df) <= 0:\n",
    "            return None\n",
    "        start_price = None\n",
    "        high = None\n",
    "        low = None\n",
    "        c = 0\n",
    "        for _,min_bar in daily_df.iterrows():\n",
    "            if not start_price:\n",
    "                start_price = min_bar['open']\n",
    "            if not high:\n",
    "                high = min_bar['high']\n",
    "            else:\n",
    "                high = max(min_bar['high'], high)\n",
    "\n",
    "            if not low:\n",
    "                low = min_bar['low']\n",
    "            else:\n",
    "                low = min(min_bar['low'], low)\n",
    "            if np.log(high/start_price) > X or abs(np.log(low/start_price)) > X:\n",
    "                c += 1\n",
    "                start_price = min_bar['close']\n",
    "                high = None\n",
    "                low = None\n",
    "        return c\n",
    "\n",
    "    return df.groupby(pd.Grouper(freq='1D',\n",
    "                              origin=pd.Timestamp(\"21:00:00\", tz='Asia/Shanghai'))).apply(calc_intra_daily_trade_count).dropna()\n",
    "\n",
    "def get_inter_day_trade_counts(df: DataFrame, X):\n",
    "    inter_day_rets = np.log(df['open']/ df['close'].shift(1)).\\\n",
    "                    groupby(pd.Grouper(freq='1D',\n",
    "                       origin=pd.Timestamp(\"21:00:00\", tz='Asia/Shanghai'))).head(1).dropna()\n",
    "    return (inter_day_rets.abs()/X).astype(int)\n",
    "\n",
    "start = pd.Timestamp('2020-06-25 21:00:00', tz='Asia/Shanghai')\n",
    "end = pd.Timestamp('2021-06-25 21:00:00', tz='Asia/Shanghai')\n",
    "command = HistoryDataQueryCommand(start, end, [code])\n",
    "ts_repo: TimeSeriesRepo = BeanContainer.getBean(TimeSeriesRepo)\n",
    "ts: TimeSeries = ts_repo.find_one(\"ibMinBar\")\n",
    "MIN_BAR_DF: DataFrame = ts.history_data(command, from_local=True)\n",
    "MIN_BAR_DF = MIN_BAR_DF.droplevel(level=1)"
   ],
   "metadata": {
    "collapsed": false,
    "pycharm": {
     "name": "#%%\n"
    }
   }
  },
  {
   "cell_type": "code",
   "execution_count": 95,
   "outputs": [
    {
     "data": {
      "text/plain": "[12.624026576531795,\n 8.882138766159384,\n 7.765179534597009,\n 6.303245676380005,\n 5.716356107660456,\n 5.976190476190476,\n 5.83390022675737,\n 4.924823633156967,\n 5.561177248677248,\n 4.53747795414462]"
     },
     "execution_count": 95,
     "metadata": {},
     "output_type": "execute_result"
    }
   ],
   "source": [
    "# 使用最近一年的数据来找到网格间隔跟比例之间的关系\n",
    "X = [0.01*(i+1) for i in range(10)]\n",
    "percents = []\n",
    "for x in X:\n",
    "    c1 = get_intra_day_trade_counts(MIN_BAR_DF, x).mean()\n",
    "    c2 = get_inter_day_trade_counts(MIN_BAR_DF, x).mean()\n",
    "    # print(\"c1:{}, c2:{}\".format(c1, c2))\n",
    "    percents.append(c1 / c2)\n",
    "percents"
   ],
   "metadata": {
    "collapsed": false,
    "pycharm": {
     "name": "#%%\n"
    }
   }
  },
  {
   "cell_type": "code",
   "execution_count": 97,
   "outputs": [
    {
     "data": {
      "text/plain": "<matplotlib.collections.PathCollection at 0x7fb3cc029310>"
     },
     "execution_count": 97,
     "metadata": {},
     "output_type": "execute_result"
    },
    {
     "data": {
      "text/plain": "<Figure size 432x288 with 1 Axes>",
      "image/png": "[encoded data removed]"
     },
     "metadata": {
      "needs_background": "light"
     },
     "output_type": "display_data"
    }
   ],
   "source": [
    "import matplotlib.pyplot as plt\n",
    "plt.scatter(X, percents)"
   ],
   "metadata": {
    "collapsed": false,
    "pycharm": {
     "name": "#%%\n"
    }
   }
  },
  {
   "cell_type": "code",
   "execution_count": 91,
   "outputs": [
    {
     "data": {
      "text/plain": "                                         start_time   open   high    low  \\\nvisible_time                                                               \n2020-06-25 21:31:00+08:00 2020-06-25 21:30:00+08:00  15.70  15.75  15.55   \n2020-06-25 21:32:00+08:00 2020-06-25 21:31:00+08:00  15.64  15.66  15.58   \n2020-06-25 21:33:00+08:00 2020-06-25 21:32:00+08:00  15.59  15.70  15.56   \n2020-06-25 21:34:00+08:00 2020-06-25 21:33:00+08:00  15.68  15.82  15.65   \n2020-06-25 21:35:00+08:00 2020-06-25 21:34:00+08:00  15.73  15.78  15.68   \n...                                             ...    ...    ...    ...   \n2021-06-25 03:56:00+08:00 2021-06-25 03:55:00+08:00  40.37  40.40  40.37   \n2021-06-25 03:57:00+08:00 2021-06-25 03:56:00+08:00  40.37  40.37  40.22   \n2021-06-25 03:58:00+08:00 2021-06-25 03:57:00+08:00  40.27  40.33  40.24   \n2021-06-25 03:59:00+08:00 2021-06-25 03:58:00+08:00  40.33  40.40  40.32   \n2021-06-25 04:00:00+08:00 2021-06-25 03:59:00+08:00  40.39  40.41  40.27   \n\n                           close  volume  \nvisible_time                              \n2020-06-25 21:31:00+08:00  15.65    1722  \n2020-06-25 21:32:00+08:00  15.61     431  \n2020-06-25 21:33:00+08:00  15.70     441  \n2020-06-25 21:34:00+08:00  15.73     669  \n2020-06-25 21:35:00+08:00  15.77     359  \n...                          ...     ...  \n2021-06-25 03:56:00+08:00  40.38     315  \n2021-06-25 03:57:00+08:00  40.27     336  \n2021-06-25 03:58:00+08:00  40.32     400  \n2021-06-25 03:59:00+08:00  40.39    1008  \n2021-06-25 04:00:00+08:00  40.35    1328  \n\n[97920 rows x 6 columns]",
      "text/html": "<div>\n<style scoped>\n    .dataframe tbody tr th:only-of-type {\n        vertical-align: middle;\n    }\n\n    .dataframe tbody tr th {\n        vertical-align: top;\n    }\n\n    .dataframe thead th {\n        text-align: right;\n    }\n</style>\n<table border=\"1\" class=\"dataframe\">\n  <thead>\n    <tr style=\"text-align: right;\">\n      <th></th>\n      <th>start_time</th>\n      <th>open</th>\n      <th>high</th>\n      <th>low</th>\n      <th>close</th>\n      <th>volume</th>\n    </tr>\n    <tr>\n      <th>visible_time</th>\n      <th></th>\n      <th></th>\n      <th></th>\n      <th></th>\n      <th></th>\n      <th></th>\n    </tr>\n  </thead>\n  <tbody>\n    <tr>\n      <th>2020-06-25 21:31:00+08:00</th>\n      <td>2020-06-25 21:30:00+08:00</td>\n      <td>15.70</td>\n      <td>15.75</td>\n      <td>15.55</td>\n      <td>15.65</td>\n      <td>1722</td>\n    </tr>\n    <tr>\n      <th>2020-06-25 21:32:00+08:00</th>\n      <td>2020-06-25 21:31:00+08:00</td>\n      <td>15.64</td>\n      <td>15.66</td>\n      <td>15.58</td>\n      <td>15.61</td>\n      <td>431</td>\n    </tr>\n    <tr>\n      <th>2020-06-25 21:33:00+08:00</th>\n      <td>2020-06-25 21:32:00+08:00</td>\n      <td>15.59</td>\n      <td>15.70</td>\n      <td>15.56</td>\n      <td>15.70</td>\n      <td>441</td>\n    </tr>\n    <tr>\n      <th>2020-06-25 21:34:00+08:00</th>\n      <td>2020-06-25 21:33:00+08:00</td>\n      <td>15.68</td>\n      <td>15.82</td>\n      <td>15.65</td>\n      <td>15.73</td>\n      <td>669</td>\n    </tr>\n    <tr>\n      <th>2020-06-25 21:35:00+08:00</th>\n      <td>2020-06-25 21:34:00+08:00</td>\n      <td>15.73</td>\n      <td>15.78</td>\n      <td>15.68</td>\n      <td>15.77</td>\n      <td>359</td>\n    </tr>\n    <tr>\n      <th>...</th>\n      <td>...</td>\n      <td>...</td>\n      <td>...</td>\n      <td>...</td>\n      <td>...</td>\n      <td>...</td>\n    </tr>\n    <tr>\n      <th>2021-06-25 03:56:00+08:00</th>\n      <td>2021-06-25 03:55:00+08:00</td>\n      <td>40.37</td>\n      <td>40.40</td>\n      <td>40.37</td>\n      <td>40.38</td>\n      <td>315</td>\n    </tr>\n    <tr>\n      <th>2021-06-25 03:57:00+08:00</th>\n      <td>2021-06-25 03:56:00+08:00</td>\n      <td>40.37</td>\n      <td>40.37</td>\n      <td>40.22</td>\n      <td>40.27</td>\n      <td>336</td>\n    </tr>\n    <tr>\n      <th>2021-06-25 03:58:00+08:00</th>\n      <td>2021-06-25 03:57:00+08:00</td>\n      <td>40.27</td>\n      <td>40.33</td>\n      <td>40.24</td>\n      <td>40.32</td>\n      <td>400</td>\n    </tr>\n    <tr>\n      <th>2021-06-25 03:59:00+08:00</th>\n      <td>2021-06-25 03:58:00+08:00</td>\n      <td>40.33</td>\n      <td>40.40</td>\n      <td>40.32</td>\n      <td>40.39</td>\n      <td>1008</td>\n    </tr>\n    <tr>\n      <th>2021-06-25 04:00:00+08:00</th>\n      <td>2021-06-25 03:59:00+08:00</td>\n      <td>40.39</td>\n      <td>40.41</td>\n      <td>40.27</td>\n      <td>40.35</td>\n      <td>1328</td>\n    </tr>\n  </tbody>\n</table>\n<p>97920 rows × 6 columns</p>\n</div>"
     },
     "execution_count": 91,
     "metadata": {},
     "output_type": "execute_result"
    }
   ],
   "source": [
    "MIN_BAR_DF"
   ],
   "metadata": {
    "collapsed": false,
    "pycharm": {
     "name": "#%%\n"
    }
   }
  },
  {
   "cell_type": "code",
   "execution_count": 46,
   "outputs": [
    {
     "data": {
      "text/plain": "visible_time\n2021-05-15 04:00:00+08:00   -0.104928\n2021-05-18 04:00:00+08:00   -0.085808\n2021-05-19 04:00:00+08:00    0.070236\n2021-05-20 04:00:00+08:00    0.107552\n2021-05-21 04:00:00+08:00    0.202411\n2021-05-22 04:00:00+08:00    0.235692\n2021-05-25 04:00:00+08:00    0.444686\n2021-05-26 04:00:00+08:00    0.393810\n2021-05-27 04:00:00+08:00    0.309280\n2021-05-28 04:00:00+08:00    0.390950\n2021-05-29 04:00:00+08:00    0.147920\n2021-06-02 04:00:00+08:00    0.123023\n2021-06-03 04:00:00+08:00    0.142063\n2021-06-04 04:00:00+08:00   -0.002574\n2021-06-05 04:00:00+08:00    0.007027\n2021-06-08 04:00:00+08:00    0.179784\n2021-06-09 04:00:00+08:00    0.188144\nName: close, dtype: float64"
     },
     "execution_count": 46,
     "metadata": {},
     "output_type": "execute_result"
    }
   ],
   "source": [
    "# 下面统计一段时间区间内波动率锥（收盘价-收盘价），基于波动率锥可以得到波动率的95%置信区间，\n",
    "# 这个置信区间的上界作为网格大小\n",
    "P = 5\n",
    "def calc_ret(s: Series):\n",
    "    return np.log(s[-1]/s[0])\n",
    "df:DataFrame = MIN_BAR_DF.groupby(pd.Grouper(freq='1D', origin=pd.Timestamp(\"21:00:00\", tz='Asia/Shanghai'))).tail(1)\n",
    "rets = df['close'].rolling(window=P).apply(calc_ret).dropna()\n",
    "rets"
   ],
   "metadata": {
    "collapsed": false,
    "pycharm": {
     "name": "#%%\n"
    }
   }
  },
  {
   "cell_type": "code",
   "execution_count": 68,
   "outputs": [
    {
     "data": {
      "text/plain": "[0.08623945498516741, 0.27577718039535826]"
     },
     "execution_count": 68,
     "metadata": {},
     "output_type": "execute_result"
    }
   ],
   "source": [
    "# 对总体方差的无偏估计为\n",
    "\n",
    "var = np.power(rets, 2).sum() / (len(rets))\n",
    "\n",
    "# 对总体波动率的无偏估计为\n",
    "b = 1\n",
    "s = np.sqrt(var) / b\n",
    "\n",
    "# 对方差的方差的估计值为\n",
    "var_of_var = np.power(np.power(rets, 2) - np.power(rets,2).mean(), 2).sum() / len(rets)\n",
    "\n",
    "# 由于使用了重叠数据，所以这个var_or_var被显著的低估了\n",
    "var_of_var_adj = var_of_var * (1 / (1 - P/len(rets) + (P*P - 1)/(3*len(rets)*len(rets))))\n",
    "\n",
    "# 所以波动率的95%置信区间为\n",
    "[s-1.96*np.sqrt(var_of_var_adj), s + 1.96*np.sqrt(var_of_var_adj)]\n"
   ],
   "metadata": {
    "collapsed": false,
    "pycharm": {
     "name": "#%%\n"
    }
   }
  },
  {
   "cell_type": "code",
   "execution_count": 67,
   "outputs": [],
   "source": [
    "# 从上面的结果来看，要时网格能够在95%的置信度上持续P天的话，网格大小是非常大的\n",
    "# 如果使用过去一个月的估计数据的话，这个网格跨度为74个点，如果使用2个月的数据进行估计的话，跨度为54个点\n"
   ],
   "metadata": {
    "collapsed": false,
    "pycharm": {
     "name": "#%%\n"
    }
   }
  }
 ],
 "metadata": {
  "kernelspec": {
   "display_name": "Python 3",
   "language": "python",
   "name": "python3"
  },
  "language_info": {
   "codemirror_mode": {
    "name": "ipython",
    "version": 2
   },
   "file_extension": ".py",
   "mimetype": "text/x-python",
   "name": "python",
   "nbconvert_exporter": "python",
   "pygments_lexer": "ipython2",
   "version": "2.7.6"
  }
 },
 "nbformat": 4,
 "nbformat_minor": 0
}